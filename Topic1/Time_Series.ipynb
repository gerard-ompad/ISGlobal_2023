{
 "cells": [
  {
   "cell_type": "code",
   "execution_count": 241,
   "id": "776e69da-d53c-45e4-966c-194180fdf7b5",
   "metadata": {
    "execution": {
     "iopub.execute_input": "2023-03-29T10:04:56.162839Z",
     "iopub.status.busy": "2023-03-29T10:04:56.162482Z",
     "iopub.status.idle": "2023-03-29T10:04:56.184827Z",
     "shell.execute_reply": "2023-03-29T10:04:56.184089Z",
     "shell.execute_reply.started": "2023-03-29T10:04:56.162814Z"
    },
    "scrolled": false,
    "tags": []
   },
   "outputs": [],
   "source": [
    "import darts\n",
    "from darts.utils.statistics import plot_acf\n",
    "import pandas as pd \n",
    "import seaborn as sns\n",
    "import numpy as np\n",
    "import fancyimpute\n",
    "import matplotlib.pyplot as plt\n",
    "import statsmodels.api as sm"
   ]
  },
  {
   "cell_type": "code",
   "execution_count": 245,
   "id": "e4efc73f",
   "metadata": {},
   "outputs": [],
   "source": [
    "#Import R Librares not found in Python\n",
    "import rpy2\n",
    "from rpy2 import robjects\n",
    "from rpy2.robjects import pandas2ri\n",
    "import rpy2.robjects.packages as rpackages\n",
    "from rpy2.robjects.vectors import StrVector\n",
    "from rpy2.robjects.packages import importr\n",
    "# Install packages\n",
    "utils = rpackages.importr('utils')\n",
    "utils.chooseCRANmirror(ind=1)\n",
    "packnames = ('tseries')\n",
    "utils.install_packages(StrVector(packnames))\n",
    "# Load packages\n",
    "hunspell = importr('tseries')"
   ]
  },
  {
   "cell_type": "code",
   "execution_count": 39,
   "id": "262baa86",
   "metadata": {
    "scrolled": false
   },
   "outputs": [],
   "source": [
    "#import sys\n",
    "#!{sys.executable} -m pip install seaborn --user"
   ]
  },
  {
   "cell_type": "code",
   "execution_count": 40,
   "id": "28b791bd",
   "metadata": {
    "scrolled": false
   },
   "outputs": [],
   "source": [
    "#activate using R objects in Python\n",
    "pandas2ri.activate()"
   ]
  },
  {
   "cell_type": "markdown",
   "id": "921fc43f-18c4-4bbc-8d3d-181ea0dfdcd9",
   "metadata": {},
   "source": [
    "Read the data\n",
    "---"
   ]
  },
  {
   "cell_type": "code",
   "execution_count": 76,
   "id": "9a4978a5-b62f-4755-9589-5b33db2e6e08",
   "metadata": {
    "execution": {
     "iopub.execute_input": "2023-03-29T08:40:40.673233Z",
     "iopub.status.busy": "2023-03-29T08:40:40.672885Z",
     "iopub.status.idle": "2023-03-29T08:40:40.679983Z",
     "shell.execute_reply": "2023-03-29T08:40:40.679445Z",
     "shell.execute_reply.started": "2023-03-29T08:40:40.673210Z"
    },
    "scrolled": false,
    "tags": []
   },
   "outputs": [],
   "source": [
    "ts = pd.read_csv('ts_steps_P246.csv')\n",
    "ts = ts.rename(columns={'date':'Date'})\n",
    "ts['Date'] = pd.to_datetime(ts.Date)"
   ]
  },
  {
   "cell_type": "markdown",
   "id": "949bb7e3-5e9d-40ae-afa8-01e21f1a81f4",
   "metadata": {},
   "source": [
    "Print the data\n",
    "---"
   ]
  },
  {
   "cell_type": "code",
   "execution_count": 77,
   "id": "272cde7d-1fe4-4b1d-86ab-39c8f8ec5450",
   "metadata": {
    "execution": {
     "iopub.execute_input": "2023-03-29T08:40:40.714365Z",
     "iopub.status.busy": "2023-03-29T08:40:40.714093Z",
     "iopub.status.idle": "2023-03-29T08:40:40.746082Z",
     "shell.execute_reply": "2023-03-29T08:40:40.745523Z",
     "shell.execute_reply.started": "2023-03-29T08:40:40.714346Z"
    },
    "scrolled": false,
    "tags": []
   },
   "outputs": [
    {
     "data": {
      "text/html": [
       "<div>\n",
       "<style scoped>\n",
       "    .dataframe tbody tr th:only-of-type {\n",
       "        vertical-align: middle;\n",
       "    }\n",
       "\n",
       "    .dataframe tbody tr th {\n",
       "        vertical-align: top;\n",
       "    }\n",
       "\n",
       "    .dataframe thead th {\n",
       "        text-align: right;\n",
       "    }\n",
       "</style>\n",
       "<table border=\"1\" class=\"dataframe\">\n",
       "  <thead>\n",
       "    <tr style=\"text-align: right;\">\n",
       "      <th></th>\n",
       "      <th>Date</th>\n",
       "      <th>steps</th>\n",
       "    </tr>\n",
       "  </thead>\n",
       "  <tbody>\n",
       "    <tr>\n",
       "      <th>0</th>\n",
       "      <td>2019-05-08</td>\n",
       "      <td>1493</td>\n",
       "    </tr>\n",
       "    <tr>\n",
       "      <th>1</th>\n",
       "      <td>2019-05-09</td>\n",
       "      <td>5289</td>\n",
       "    </tr>\n",
       "    <tr>\n",
       "      <th>2</th>\n",
       "      <td>2019-05-10</td>\n",
       "      <td>9988</td>\n",
       "    </tr>\n",
       "    <tr>\n",
       "      <th>3</th>\n",
       "      <td>2019-05-11</td>\n",
       "      <td>8385</td>\n",
       "    </tr>\n",
       "    <tr>\n",
       "      <th>4</th>\n",
       "      <td>2019-05-12</td>\n",
       "      <td>1011</td>\n",
       "    </tr>\n",
       "    <tr>\n",
       "      <th>...</th>\n",
       "      <td>...</td>\n",
       "      <td>...</td>\n",
       "    </tr>\n",
       "    <tr>\n",
       "      <th>289</th>\n",
       "      <td>2020-02-26</td>\n",
       "      <td>1026</td>\n",
       "    </tr>\n",
       "    <tr>\n",
       "      <th>290</th>\n",
       "      <td>2020-02-27</td>\n",
       "      <td>1329</td>\n",
       "    </tr>\n",
       "    <tr>\n",
       "      <th>291</th>\n",
       "      <td>2020-02-28</td>\n",
       "      <td>6618</td>\n",
       "    </tr>\n",
       "    <tr>\n",
       "      <th>292</th>\n",
       "      <td>2020-02-29</td>\n",
       "      <td>11330</td>\n",
       "    </tr>\n",
       "    <tr>\n",
       "      <th>293</th>\n",
       "      <td>2020-03-01</td>\n",
       "      <td>5623</td>\n",
       "    </tr>\n",
       "  </tbody>\n",
       "</table>\n",
       "<p>294 rows × 2 columns</p>\n",
       "</div>"
      ],
      "text/plain": [
       "          Date  steps\n",
       "0   2019-05-08   1493\n",
       "1   2019-05-09   5289\n",
       "2   2019-05-10   9988\n",
       "3   2019-05-11   8385\n",
       "4   2019-05-12   1011\n",
       "..         ...    ...\n",
       "289 2020-02-26   1026\n",
       "290 2020-02-27   1329\n",
       "291 2020-02-28   6618\n",
       "292 2020-02-29  11330\n",
       "293 2020-03-01   5623\n",
       "\n",
       "[294 rows x 2 columns]"
      ]
     },
     "execution_count": 77,
     "metadata": {},
     "output_type": "execute_result"
    }
   ],
   "source": [
    "ts"
   ]
  },
  {
   "cell_type": "markdown",
   "id": "c2950e44-b261-4721-b747-f6f43c1ca0de",
   "metadata": {},
   "source": [
    "When the TS starts?\n",
    "---"
   ]
  },
  {
   "cell_type": "code",
   "execution_count": 78,
   "id": "7a3b689d-cc29-46ba-9015-7a22905f64fe",
   "metadata": {
    "execution": {
     "iopub.execute_input": "2023-03-29T08:40:41.003537Z",
     "iopub.status.busy": "2023-03-29T08:40:41.003214Z",
     "iopub.status.idle": "2023-03-29T08:40:41.006982Z",
     "shell.execute_reply": "2023-03-29T08:40:41.006261Z",
     "shell.execute_reply.started": "2023-03-29T08:40:41.003516Z"
    },
    "scrolled": false,
    "tags": []
   },
   "outputs": [],
   "source": [
    "ts_min = min(ts.Date)"
   ]
  },
  {
   "cell_type": "markdown",
   "id": "24cf3cd0-493d-49d4-ad01-d1f6c79ed1d5",
   "metadata": {},
   "source": [
    "Show the minimum date\n",
    "---"
   ]
  },
  {
   "cell_type": "code",
   "execution_count": 79,
   "id": "a65e68c0-085e-482d-8d49-fc69aa2fd260",
   "metadata": {
    "execution": {
     "iopub.execute_input": "2023-03-29T08:40:41.669418Z",
     "iopub.status.busy": "2023-03-29T08:40:41.669062Z",
     "iopub.status.idle": "2023-03-29T08:40:41.673906Z",
     "shell.execute_reply": "2023-03-29T08:40:41.673184Z",
     "shell.execute_reply.started": "2023-03-29T08:40:41.669393Z"
    },
    "scrolled": false,
    "tags": []
   },
   "outputs": [
    {
     "data": {
      "text/plain": [
       "Timestamp('2019-05-08 00:00:00')"
      ]
     },
     "execution_count": 79,
     "metadata": {},
     "output_type": "execute_result"
    }
   ],
   "source": [
    "ts_min"
   ]
  },
  {
   "cell_type": "markdown",
   "id": "8da95101-a075-4d9e-a9a9-bc7e44e7a596",
   "metadata": {},
   "source": [
    "When the TS end?\n",
    "---"
   ]
  },
  {
   "cell_type": "code",
   "execution_count": 80,
   "id": "70664ce1-3cdc-4316-b348-14834b060c06",
   "metadata": {
    "execution": {
     "iopub.execute_input": "2023-03-29T08:40:41.675321Z",
     "iopub.status.busy": "2023-03-29T08:40:41.675022Z",
     "iopub.status.idle": "2023-03-29T08:40:41.735838Z",
     "shell.execute_reply": "2023-03-29T08:40:41.735335Z",
     "shell.execute_reply.started": "2023-03-29T08:40:41.675303Z"
    },
    "scrolled": false,
    "tags": []
   },
   "outputs": [],
   "source": [
    "ts_max = max(ts.Date)"
   ]
  },
  {
   "cell_type": "markdown",
   "id": "c72f6907-f0d0-46bb-b2de-103482ca12b8",
   "metadata": {},
   "source": [
    "Show the maximum date\n",
    "---"
   ]
  },
  {
   "cell_type": "code",
   "execution_count": 81,
   "id": "02700b05-6171-4f87-b241-f511a26a82e8",
   "metadata": {
    "execution": {
     "iopub.execute_input": "2023-03-29T08:40:41.922298Z",
     "iopub.status.busy": "2023-03-29T08:40:41.921962Z",
     "iopub.status.idle": "2023-03-29T08:40:41.926758Z",
     "shell.execute_reply": "2023-03-29T08:40:41.926038Z",
     "shell.execute_reply.started": "2023-03-29T08:40:41.922274Z"
    },
    "scrolled": false,
    "tags": []
   },
   "outputs": [
    {
     "data": {
      "text/plain": [
       "Timestamp('2020-03-01 00:00:00')"
      ]
     },
     "execution_count": 81,
     "metadata": {},
     "output_type": "execute_result"
    }
   ],
   "source": [
    "ts_max"
   ]
  },
  {
   "cell_type": "markdown",
   "id": "0a60fbff-035f-4096-9040-9d0957366926",
   "metadata": {},
   "source": [
    "How long is the data?\n",
    "---"
   ]
  },
  {
   "cell_type": "code",
   "execution_count": 82,
   "id": "f3759111-e3bc-412c-9b28-90b7126f650f",
   "metadata": {
    "execution": {
     "iopub.execute_input": "2023-03-29T08:40:42.890006Z",
     "iopub.status.busy": "2023-03-29T08:40:42.889644Z",
     "iopub.status.idle": "2023-03-29T08:40:42.893699Z",
     "shell.execute_reply": "2023-03-29T08:40:42.892903Z",
     "shell.execute_reply.started": "2023-03-29T08:40:42.889983Z"
    },
    "scrolled": false,
    "tags": []
   },
   "outputs": [],
   "source": [
    "data_length = len(ts.Date.unique())"
   ]
  },
  {
   "cell_type": "markdown",
   "id": "e79d44e0-e366-4937-932f-abced42ce3d2",
   "metadata": {},
   "source": [
    "Show the length of the data\n",
    "---"
   ]
  },
  {
   "cell_type": "code",
   "execution_count": 83,
   "id": "83fb4254-cbce-47be-ba31-30f16f62c81f",
   "metadata": {
    "execution": {
     "iopub.execute_input": "2023-03-29T08:40:44.696851Z",
     "iopub.status.busy": "2023-03-29T08:40:44.696509Z",
     "iopub.status.idle": "2023-03-29T08:40:44.701293Z",
     "shell.execute_reply": "2023-03-29T08:40:44.700567Z",
     "shell.execute_reply.started": "2023-03-29T08:40:44.696828Z"
    },
    "scrolled": false,
    "tags": []
   },
   "outputs": [
    {
     "data": {
      "text/plain": [
       "294"
      ]
     },
     "execution_count": 83,
     "metadata": {},
     "output_type": "execute_result"
    }
   ],
   "source": [
    "data_length"
   ]
  },
  {
   "cell_type": "markdown",
   "id": "be458fe6-4e4d-4012-b49d-609743073bb2",
   "metadata": {
    "execution": {
     "iopub.execute_input": "2023-03-29T07:11:41.871732Z",
     "iopub.status.busy": "2023-03-29T07:11:41.871376Z",
     "iopub.status.idle": "2023-03-29T07:11:41.875972Z",
     "shell.execute_reply": "2023-03-29T07:11:41.875306Z",
     "shell.execute_reply.started": "2023-03-29T07:11:41.871709Z"
    },
    "tags": []
   },
   "source": [
    "How long is the data?\n",
    "---"
   ]
  },
  {
   "cell_type": "code",
   "execution_count": 84,
   "id": "dde2bd17-f90b-4a7c-b0b6-6c3db57d1572",
   "metadata": {
    "execution": {
     "iopub.execute_input": "2023-03-29T08:40:46.669304Z",
     "iopub.status.busy": "2023-03-29T08:40:46.668950Z",
     "iopub.status.idle": "2023-03-29T08:40:46.674687Z",
     "shell.execute_reply": "2023-03-29T08:40:46.673929Z",
     "shell.execute_reply.started": "2023-03-29T08:40:46.669282Z"
    },
    "scrolled": false,
    "tags": []
   },
   "outputs": [],
   "source": [
    "ts_length = max(pd.to_datetime(ts.Date)) - min(pd.to_datetime(ts.Date))"
   ]
  },
  {
   "cell_type": "markdown",
   "id": "ea77c7fe-951f-42cb-8b24-83ddb8e99a24",
   "metadata": {},
   "source": [
    "Show how long is the date\n",
    "---"
   ]
  },
  {
   "cell_type": "code",
   "execution_count": 85,
   "id": "6b243eb8-35b7-413b-b0cf-907b1065c345",
   "metadata": {
    "execution": {
     "iopub.execute_input": "2023-03-29T08:40:50.669286Z",
     "iopub.status.busy": "2023-03-29T08:40:50.668906Z",
     "iopub.status.idle": "2023-03-29T08:40:50.673737Z",
     "shell.execute_reply": "2023-03-29T08:40:50.673023Z",
     "shell.execute_reply.started": "2023-03-29T08:40:50.669260Z"
    },
    "scrolled": false,
    "tags": []
   },
   "outputs": [
    {
     "data": {
      "text/plain": [
       "Timedelta('298 days 00:00:00')"
      ]
     },
     "execution_count": 85,
     "metadata": {},
     "output_type": "execute_result"
    }
   ],
   "source": [
    "ts_length"
   ]
  },
  {
   "cell_type": "markdown",
   "id": "17de0226-22a7-4b8c-9cc2-3000d126a9e7",
   "metadata": {},
   "source": [
    "Show the descriptive statistics\n",
    "---"
   ]
  },
  {
   "cell_type": "code",
   "execution_count": 86,
   "id": "573d5dab-2413-4103-9d48-62c43b40fb04",
   "metadata": {
    "execution": {
     "iopub.execute_input": "2023-03-29T08:40:50.957080Z",
     "iopub.status.busy": "2023-03-29T08:40:50.956745Z",
     "iopub.status.idle": "2023-03-29T08:40:50.964825Z",
     "shell.execute_reply": "2023-03-29T08:40:50.964113Z",
     "shell.execute_reply.started": "2023-03-29T08:40:50.957058Z"
    },
    "scrolled": false,
    "tags": []
   },
   "outputs": [
    {
     "data": {
      "text/plain": [
       "count      294.000000\n",
       "mean      7625.676871\n",
       "std       6198.166227\n",
       "min        649.000000\n",
       "25%       1703.500000\n",
       "50%       7370.500000\n",
       "75%      11071.750000\n",
       "max      34167.000000\n",
       "Name: steps, dtype: float64"
      ]
     },
     "execution_count": 86,
     "metadata": {},
     "output_type": "execute_result"
    }
   ],
   "source": [
    "ts.steps.describe()"
   ]
  },
  {
   "cell_type": "markdown",
   "id": "c0a18992-2b59-44cd-a5c1-72675b7d0749",
   "metadata": {},
   "source": [
    "Create Bar Chart\n",
    "---"
   ]
  },
  {
   "cell_type": "code",
   "execution_count": 105,
   "id": "79369a9c-3aef-467b-ae1d-abd72094d0fe",
   "metadata": {
    "execution": {
     "iopub.execute_input": "2023-03-29T08:40:51.668555Z",
     "iopub.status.busy": "2023-03-29T08:40:51.668209Z",
     "iopub.status.idle": "2023-03-29T08:40:51.943089Z",
     "shell.execute_reply": "2023-03-29T08:40:51.942307Z",
     "shell.execute_reply.started": "2023-03-29T08:40:51.668532Z"
    },
    "scrolled": false,
    "tags": []
   },
   "outputs": [
    {
     "data": {
      "text/plain": [
       "<Figure size 2000x2000 with 0 Axes>"
      ]
     },
     "metadata": {},
     "output_type": "display_data"
    },
    {
     "data": {
      "image/png": "[encoded data removed]",
      "text/plain": [
       "<Figure size 640x480 with 1 Axes>"
      ]
     },
     "metadata": {},
     "output_type": "display_data"
    }
   ],
   "source": [
    "plt.figure(figsize=(20,20)) # this creates a figure 8 inch wide, 4 inch high\n",
    "\n",
    "fig, ax = plt.subplots()\n",
    "# plot with a horizontal orientation\n",
    "sns.histplot(data=ts, x=\"steps\", kde=True)\n",
    "plt.tight_layout()\n",
    "plt.show()"
   ]
  },
  {
   "cell_type": "markdown",
   "id": "5cbbb739-87a1-4ed2-817b-190a8d33a532",
   "metadata": {},
   "source": [
    "Create a time-series chart\n",
    "---"
   ]
  },
  {
   "cell_type": "code",
   "execution_count": 104,
   "id": "5af5f988-1696-4a9b-9f58-bdcdc0fe144b",
   "metadata": {
    "execution": {
     "iopub.execute_input": "2023-03-29T08:40:52.669229Z",
     "iopub.status.busy": "2023-03-29T08:40:52.668890Z",
     "iopub.status.idle": "2023-03-29T08:40:52.706168Z",
     "shell.execute_reply": "2023-03-29T08:40:52.705444Z",
     "shell.execute_reply.started": "2023-03-29T08:40:52.669206Z"
    },
    "scrolled": false,
    "tags": []
   },
   "outputs": [
    {
     "name": "stderr",
     "output_type": "stream",
     "text": [
      "/var/folders/bw/7qdh0ynx0c9bf8j9_sfpt8fw0000gn/T/ipykernel_56011/2163309051.py:12: UserWarning:\n",
      "\n",
      "FixedFormatter should only be used together with FixedLocator\n",
      "\n"
     ]
    },
    {
     "data": {
      "text/plain": [
       "<Figure size 2000x2000 with 0 Axes>"
      ]
     },
     "metadata": {},
     "output_type": "display_data"
    },
    {
     "data": {
      "image/png": "[encoded data removed]",
      "text/plain": [
       "<Figure size 640x480 with 1 Axes>"
      ]
     },
     "metadata": {},
     "output_type": "display_data"
    }
   ],
   "source": [
    "plt.figure(figsize=(20,20)) # this creates a figure 8 inch wide, 4 inch high\n",
    "\n",
    "fig, ax = plt.subplots()\n",
    "# plot with a horizontal orientation\n",
    "sns.lineplot(x=\"Date\", y=\"steps\",data=ts)\n",
    "\n",
    "# set the frequency for labelling the yaxis\n",
    "freq = int(1)\n",
    "\n",
    "# set the zlabels as the datetime data for the given labelling frequency,\n",
    "# also use only the date for the label\n",
    "ax.set_xticklabels(ts.iloc[::freq].Date.dt.date, rotation=90)\n",
    "plt.tight_layout()\n",
    "plt.show()"
   ]
  },
  {
   "cell_type": "markdown",
   "id": "ddd26e58-113f-46bf-ad9e-5c58fa0e7f02",
   "metadata": {},
   "source": [
    "Check for duplicate dates\n",
    "---"
   ]
  },
  {
   "cell_type": "code",
   "execution_count": 107,
   "id": "949e9bb3-1632-4503-89fb-5104dbb9d39e",
   "metadata": {
    "execution": {
     "iopub.execute_input": "2023-03-29T08:40:54.669216Z",
     "iopub.status.busy": "2023-03-29T08:40:54.668862Z",
     "iopub.status.idle": "2023-03-29T08:40:54.676553Z",
     "shell.execute_reply": "2023-03-29T08:40:54.675985Z",
     "shell.execute_reply.started": "2023-03-29T08:40:54.669192Z"
    },
    "scrolled": false,
    "tags": []
   },
   "outputs": [
    {
     "data": {
      "text/html": [
       "<div>\n",
       "<style scoped>\n",
       "    .dataframe tbody tr th:only-of-type {\n",
       "        vertical-align: middle;\n",
       "    }\n",
       "\n",
       "    .dataframe tbody tr th {\n",
       "        vertical-align: top;\n",
       "    }\n",
       "\n",
       "    .dataframe thead th {\n",
       "        text-align: right;\n",
       "    }\n",
       "</style>\n",
       "<table border=\"1\" class=\"dataframe\">\n",
       "  <thead>\n",
       "    <tr style=\"text-align: right;\">\n",
       "      <th></th>\n",
       "      <th>Date</th>\n",
       "      <th>steps</th>\n",
       "    </tr>\n",
       "  </thead>\n",
       "  <tbody>\n",
       "  </tbody>\n",
       "</table>\n",
       "</div>"
      ],
      "text/plain": [
       "Empty DataFrame\n",
       "Columns: [Date, steps]\n",
       "Index: []"
      ]
     },
     "execution_count": 107,
     "metadata": {},
     "output_type": "execute_result"
    }
   ],
   "source": [
    "ids = ts['Date']\n",
    "ts[ids.isin(ids[ids.duplicated()])].sort_values(\"Date\")"
   ]
  },
  {
   "cell_type": "markdown",
   "id": "7385e328-4e0f-40c1-b81e-8d5da2870e29",
   "metadata": {},
   "source": [
    "NAs in Time Series\n",
    "---\n",
    "Silent Missings\n",
    "<br>\n",
    "Most of the times, when dealing with TS the missing values are silent/hidden. In our example, if the number of steps for a given day is missing, the whole observation (row) is missing, and not only the value itself: we have a TS with daily step-count collected via a wearable device (e.g., FitBit). If on day x the device was switched off, we have a missing observation and the corresponding observation is not present in the TS. Therefore, before proceeding, we need to check if we have hidden missing observations.\""
   ]
  },
  {
   "cell_type": "code",
   "execution_count": 108,
   "id": "bea3d5ab-6d25-4f3f-8845-d2c60722f63a",
   "metadata": {
    "execution": {
     "iopub.execute_input": "2023-03-29T08:40:56.115682Z",
     "iopub.status.busy": "2023-03-29T08:40:56.115335Z",
     "iopub.status.idle": "2023-03-29T08:40:56.121444Z",
     "shell.execute_reply": "2023-03-29T08:40:56.120676Z",
     "shell.execute_reply.started": "2023-03-29T08:40:56.115659Z"
    },
    "scrolled": false,
    "tags": []
   },
   "outputs": [],
   "source": [
    "ts_na = ts.sort_values(\"Date\", ascending = True)\n",
    "ts_na[\"diff_date\"] = pd.to_datetime(ts_na.Date).diff().dt.days"
   ]
  },
  {
   "cell_type": "code",
   "execution_count": 109,
   "id": "c759b895-aa11-41d9-978f-9734d7b0d06b",
   "metadata": {
    "execution": {
     "iopub.execute_input": "2023-03-29T08:40:56.668602Z",
     "iopub.status.busy": "2023-03-29T08:40:56.668257Z",
     "iopub.status.idle": "2023-03-29T08:40:56.678166Z",
     "shell.execute_reply": "2023-03-29T08:40:56.677591Z",
     "shell.execute_reply.started": "2023-03-29T08:40:56.668580Z"
    },
    "scrolled": false,
    "tags": []
   },
   "outputs": [
    {
     "data": {
      "text/html": [
       "<div>\n",
       "<style scoped>\n",
       "    .dataframe tbody tr th:only-of-type {\n",
       "        vertical-align: middle;\n",
       "    }\n",
       "\n",
       "    .dataframe tbody tr th {\n",
       "        vertical-align: top;\n",
       "    }\n",
       "\n",
       "    .dataframe thead th {\n",
       "        text-align: right;\n",
       "    }\n",
       "</style>\n",
       "<table border=\"1\" class=\"dataframe\">\n",
       "  <thead>\n",
       "    <tr style=\"text-align: right;\">\n",
       "      <th></th>\n",
       "      <th>Date</th>\n",
       "      <th>steps</th>\n",
       "      <th>diff_date</th>\n",
       "    </tr>\n",
       "  </thead>\n",
       "  <tbody>\n",
       "    <tr>\n",
       "      <th>0</th>\n",
       "      <td>2019-05-08</td>\n",
       "      <td>1493</td>\n",
       "      <td>NaN</td>\n",
       "    </tr>\n",
       "    <tr>\n",
       "      <th>1</th>\n",
       "      <td>2019-05-09</td>\n",
       "      <td>5289</td>\n",
       "      <td>1.0</td>\n",
       "    </tr>\n",
       "    <tr>\n",
       "      <th>2</th>\n",
       "      <td>2019-05-10</td>\n",
       "      <td>9988</td>\n",
       "      <td>1.0</td>\n",
       "    </tr>\n",
       "    <tr>\n",
       "      <th>3</th>\n",
       "      <td>2019-05-11</td>\n",
       "      <td>8385</td>\n",
       "      <td>1.0</td>\n",
       "    </tr>\n",
       "    <tr>\n",
       "      <th>4</th>\n",
       "      <td>2019-05-12</td>\n",
       "      <td>1011</td>\n",
       "      <td>1.0</td>\n",
       "    </tr>\n",
       "    <tr>\n",
       "      <th>...</th>\n",
       "      <td>...</td>\n",
       "      <td>...</td>\n",
       "      <td>...</td>\n",
       "    </tr>\n",
       "    <tr>\n",
       "      <th>289</th>\n",
       "      <td>2020-02-26</td>\n",
       "      <td>1026</td>\n",
       "      <td>1.0</td>\n",
       "    </tr>\n",
       "    <tr>\n",
       "      <th>290</th>\n",
       "      <td>2020-02-27</td>\n",
       "      <td>1329</td>\n",
       "      <td>1.0</td>\n",
       "    </tr>\n",
       "    <tr>\n",
       "      <th>291</th>\n",
       "      <td>2020-02-28</td>\n",
       "      <td>6618</td>\n",
       "      <td>1.0</td>\n",
       "    </tr>\n",
       "    <tr>\n",
       "      <th>292</th>\n",
       "      <td>2020-02-29</td>\n",
       "      <td>11330</td>\n",
       "      <td>1.0</td>\n",
       "    </tr>\n",
       "    <tr>\n",
       "      <th>293</th>\n",
       "      <td>2020-03-01</td>\n",
       "      <td>5623</td>\n",
       "      <td>1.0</td>\n",
       "    </tr>\n",
       "  </tbody>\n",
       "</table>\n",
       "<p>294 rows × 3 columns</p>\n",
       "</div>"
      ],
      "text/plain": [
       "          Date  steps  diff_date\n",
       "0   2019-05-08   1493        NaN\n",
       "1   2019-05-09   5289        1.0\n",
       "2   2019-05-10   9988        1.0\n",
       "3   2019-05-11   8385        1.0\n",
       "4   2019-05-12   1011        1.0\n",
       "..         ...    ...        ...\n",
       "289 2020-02-26   1026        1.0\n",
       "290 2020-02-27   1329        1.0\n",
       "291 2020-02-28   6618        1.0\n",
       "292 2020-02-29  11330        1.0\n",
       "293 2020-03-01   5623        1.0\n",
       "\n",
       "[294 rows x 3 columns]"
      ]
     },
     "execution_count": 109,
     "metadata": {},
     "output_type": "execute_result"
    }
   ],
   "source": [
    "ts_na"
   ]
  },
  {
   "cell_type": "code",
   "execution_count": 110,
   "id": "c88e8809-c4ec-40b7-9a85-6f05156d2657",
   "metadata": {
    "execution": {
     "iopub.execute_input": "2023-03-29T08:41:00.167097Z",
     "iopub.status.busy": "2023-03-29T08:41:00.166753Z",
     "iopub.status.idle": "2023-03-29T08:41:00.175139Z",
     "shell.execute_reply": "2023-03-29T08:41:00.174423Z",
     "shell.execute_reply.started": "2023-03-29T08:41:00.167073Z"
    },
    "scrolled": false,
    "tags": []
   },
   "outputs": [
    {
     "data": {
      "text/html": [
       "<div>\n",
       "<style scoped>\n",
       "    .dataframe tbody tr th:only-of-type {\n",
       "        vertical-align: middle;\n",
       "    }\n",
       "\n",
       "    .dataframe tbody tr th {\n",
       "        vertical-align: top;\n",
       "    }\n",
       "\n",
       "    .dataframe thead th {\n",
       "        text-align: right;\n",
       "    }\n",
       "</style>\n",
       "<table border=\"1\" class=\"dataframe\">\n",
       "  <thead>\n",
       "    <tr style=\"text-align: right;\">\n",
       "      <th></th>\n",
       "      <th>Date</th>\n",
       "      <th>steps</th>\n",
       "      <th>diff_date</th>\n",
       "    </tr>\n",
       "  </thead>\n",
       "  <tbody>\n",
       "    <tr>\n",
       "      <th>22</th>\n",
       "      <td>2019-05-31</td>\n",
       "      <td>21298</td>\n",
       "      <td>2.0</td>\n",
       "    </tr>\n",
       "    <tr>\n",
       "      <th>24</th>\n",
       "      <td>2019-06-03</td>\n",
       "      <td>881</td>\n",
       "      <td>2.0</td>\n",
       "    </tr>\n",
       "    <tr>\n",
       "      <th>38</th>\n",
       "      <td>2019-06-18</td>\n",
       "      <td>975</td>\n",
       "      <td>2.0</td>\n",
       "    </tr>\n",
       "    <tr>\n",
       "      <th>80</th>\n",
       "      <td>2019-07-31</td>\n",
       "      <td>10804</td>\n",
       "      <td>2.0</td>\n",
       "    </tr>\n",
       "    <tr>\n",
       "      <th>208</th>\n",
       "      <td>2019-12-07</td>\n",
       "      <td>1048</td>\n",
       "      <td>2.0</td>\n",
       "    </tr>\n",
       "  </tbody>\n",
       "</table>\n",
       "</div>"
      ],
      "text/plain": [
       "          Date  steps  diff_date\n",
       "22  2019-05-31  21298        2.0\n",
       "24  2019-06-03    881        2.0\n",
       "38  2019-06-18    975        2.0\n",
       "80  2019-07-31  10804        2.0\n",
       "208 2019-12-07   1048        2.0"
      ]
     },
     "execution_count": 110,
     "metadata": {},
     "output_type": "execute_result"
    }
   ],
   "source": [
    "# find rows where date differece is more than 1 day\n",
    "ts_na[ts_na.diff_date>1]"
   ]
  },
  {
   "cell_type": "markdown",
   "id": "9e2f026e-6060-4717-b71a-966355ea07a1",
   "metadata": {},
   "source": [
    "Create the missing dates\n",
    "---"
   ]
  },
  {
   "cell_type": "code",
   "execution_count": 123,
   "id": "c5af5761-5aa0-43ad-9a9f-3fa994c0b8d8",
   "metadata": {
    "execution": {
     "iopub.execute_input": "2023-03-29T08:49:34.672290Z",
     "iopub.status.busy": "2023-03-29T08:49:34.671915Z",
     "iopub.status.idle": "2023-03-29T08:49:34.675860Z",
     "shell.execute_reply": "2023-03-29T08:49:34.675334Z",
     "shell.execute_reply.started": "2023-03-29T08:49:34.672262Z"
    },
    "scrolled": false,
    "tags": []
   },
   "outputs": [],
   "source": [
    "#Step 1: create a date range, preferably using the min date and max date as the limits\n",
    "new_date_range = pd.date_range(start=ts_min, end=ts_max, freq=\"D\")"
   ]
  },
  {
   "cell_type": "code",
   "execution_count": 124,
   "id": "c0984c44-5ab3-4aa6-bce4-74bf4462b7f1",
   "metadata": {
    "execution": {
     "iopub.execute_input": "2023-03-29T08:50:33.669650Z",
     "iopub.status.busy": "2023-03-29T08:50:33.669278Z",
     "iopub.status.idle": "2023-03-29T08:50:33.674953Z",
     "shell.execute_reply": "2023-03-29T08:50:33.674145Z",
     "shell.execute_reply.started": "2023-03-29T08:50:33.669624Z"
    },
    "scrolled": false,
    "tags": []
   },
   "outputs": [
    {
     "data": {
      "text/plain": [
       "DatetimeIndex(['2019-05-08', '2019-05-09', '2019-05-10', '2019-05-11',\n",
       "               '2019-05-12', '2019-05-13', '2019-05-14', '2019-05-15',\n",
       "               '2019-05-16', '2019-05-17',\n",
       "               ...\n",
       "               '2020-02-21', '2020-02-22', '2020-02-23', '2020-02-24',\n",
       "               '2020-02-25', '2020-02-26', '2020-02-27', '2020-02-28',\n",
       "               '2020-02-29', '2020-03-01'],\n",
       "              dtype='datetime64[ns]', length=299, freq='D')"
      ]
     },
     "execution_count": 124,
     "metadata": {},
     "output_type": "execute_result"
    }
   ],
   "source": [
    "#Print the new date range\n",
    "new_date_range "
   ]
  },
  {
   "cell_type": "code",
   "execution_count": 131,
   "id": "f9a0907c-eec0-4937-a91c-b71bf65f603f",
   "metadata": {
    "execution": {
     "iopub.execute_input": "2023-03-29T08:56:14.677209Z",
     "iopub.status.busy": "2023-03-29T08:56:14.676848Z",
     "iopub.status.idle": "2023-03-29T08:56:14.680897Z",
     "shell.execute_reply": "2023-03-29T08:56:14.680376Z",
     "shell.execute_reply.started": "2023-03-29T08:56:14.677179Z"
    },
    "scrolled": false,
    "tags": []
   },
   "outputs": [],
   "source": [
    "#Step 2: using the current date column as the new index\n",
    "df = ts.set_index(pd.DatetimeIndex(ts['Date']))"
   ]
  },
  {
   "cell_type": "code",
   "execution_count": 132,
   "id": "04be661c-11b8-4675-8f11-12ad74efa269",
   "metadata": {
    "execution": {
     "iopub.execute_input": "2023-03-29T08:56:15.670581Z",
     "iopub.status.busy": "2023-03-29T08:56:15.670229Z",
     "iopub.status.idle": "2023-03-29T08:56:15.678305Z",
     "shell.execute_reply": "2023-03-29T08:56:15.677754Z",
     "shell.execute_reply.started": "2023-03-29T08:56:15.670559Z"
    },
    "scrolled": false,
    "tags": []
   },
   "outputs": [
    {
     "data": {
      "text/html": [
       "<div>\n",
       "<style scoped>\n",
       "    .dataframe tbody tr th:only-of-type {\n",
       "        vertical-align: middle;\n",
       "    }\n",
       "\n",
       "    .dataframe tbody tr th {\n",
       "        vertical-align: top;\n",
       "    }\n",
       "\n",
       "    .dataframe thead th {\n",
       "        text-align: right;\n",
       "    }\n",
       "</style>\n",
       "<table border=\"1\" class=\"dataframe\">\n",
       "  <thead>\n",
       "    <tr style=\"text-align: right;\">\n",
       "      <th></th>\n",
       "      <th>Date</th>\n",
       "      <th>steps</th>\n",
       "    </tr>\n",
       "    <tr>\n",
       "      <th>Date</th>\n",
       "      <th></th>\n",
       "      <th></th>\n",
       "    </tr>\n",
       "  </thead>\n",
       "  <tbody>\n",
       "    <tr>\n",
       "      <th>2019-05-08</th>\n",
       "      <td>2019-05-08</td>\n",
       "      <td>1493</td>\n",
       "    </tr>\n",
       "    <tr>\n",
       "      <th>2019-05-09</th>\n",
       "      <td>2019-05-09</td>\n",
       "      <td>5289</td>\n",
       "    </tr>\n",
       "    <tr>\n",
       "      <th>2019-05-10</th>\n",
       "      <td>2019-05-10</td>\n",
       "      <td>9988</td>\n",
       "    </tr>\n",
       "    <tr>\n",
       "      <th>2019-05-11</th>\n",
       "      <td>2019-05-11</td>\n",
       "      <td>8385</td>\n",
       "    </tr>\n",
       "    <tr>\n",
       "      <th>2019-05-12</th>\n",
       "      <td>2019-05-12</td>\n",
       "      <td>1011</td>\n",
       "    </tr>\n",
       "    <tr>\n",
       "      <th>...</th>\n",
       "      <td>...</td>\n",
       "      <td>...</td>\n",
       "    </tr>\n",
       "    <tr>\n",
       "      <th>2020-02-26</th>\n",
       "      <td>2020-02-26</td>\n",
       "      <td>1026</td>\n",
       "    </tr>\n",
       "    <tr>\n",
       "      <th>2020-02-27</th>\n",
       "      <td>2020-02-27</td>\n",
       "      <td>1329</td>\n",
       "    </tr>\n",
       "    <tr>\n",
       "      <th>2020-02-28</th>\n",
       "      <td>2020-02-28</td>\n",
       "      <td>6618</td>\n",
       "    </tr>\n",
       "    <tr>\n",
       "      <th>2020-02-29</th>\n",
       "      <td>2020-02-29</td>\n",
       "      <td>11330</td>\n",
       "    </tr>\n",
       "    <tr>\n",
       "      <th>2020-03-01</th>\n",
       "      <td>2020-03-01</td>\n",
       "      <td>5623</td>\n",
       "    </tr>\n",
       "  </tbody>\n",
       "</table>\n",
       "<p>294 rows × 2 columns</p>\n",
       "</div>"
      ],
      "text/plain": [
       "                 Date  steps\n",
       "Date                        \n",
       "2019-05-08 2019-05-08   1493\n",
       "2019-05-09 2019-05-09   5289\n",
       "2019-05-10 2019-05-10   9988\n",
       "2019-05-11 2019-05-11   8385\n",
       "2019-05-12 2019-05-12   1011\n",
       "...               ...    ...\n",
       "2020-02-26 2020-02-26   1026\n",
       "2020-02-27 2020-02-27   1329\n",
       "2020-02-28 2020-02-28   6618\n",
       "2020-02-29 2020-02-29  11330\n",
       "2020-03-01 2020-03-01   5623\n",
       "\n",
       "[294 rows x 2 columns]"
      ]
     },
     "execution_count": 132,
     "metadata": {},
     "output_type": "execute_result"
    }
   ],
   "source": [
    "#print the new data\n",
    "df"
   ]
  },
  {
   "cell_type": "code",
   "execution_count": 133,
   "id": "c4c346b1-d3e4-4cf5-887b-0e98d12c44a7",
   "metadata": {
    "execution": {
     "iopub.execute_input": "2023-03-29T08:56:16.669739Z",
     "iopub.status.busy": "2023-03-29T08:56:16.669175Z",
     "iopub.status.idle": "2023-03-29T08:56:16.673110Z",
     "shell.execute_reply": "2023-03-29T08:56:16.672576Z",
     "shell.execute_reply.started": "2023-03-29T08:56:16.669716Z"
    },
    "scrolled": false,
    "tags": []
   },
   "outputs": [],
   "source": [
    "#step 3: to avoid conflict in column name, drop the date column since date is now used in the index\n",
    "df = df.drop(columns = \"Date\")"
   ]
  },
  {
   "cell_type": "code",
   "execution_count": 134,
   "id": "5fcf805c-60a4-43b2-a1a1-336642257d92",
   "metadata": {
    "execution": {
     "iopub.execute_input": "2023-03-29T08:56:16.674454Z",
     "iopub.status.busy": "2023-03-29T08:56:16.674049Z",
     "iopub.status.idle": "2023-03-29T08:56:16.753935Z",
     "shell.execute_reply": "2023-03-29T08:56:16.753435Z",
     "shell.execute_reply.started": "2023-03-29T08:56:16.674436Z"
    },
    "scrolled": false,
    "tags": []
   },
   "outputs": [
    {
     "data": {
      "text/html": [
       "<div>\n",
       "<style scoped>\n",
       "    .dataframe tbody tr th:only-of-type {\n",
       "        vertical-align: middle;\n",
       "    }\n",
       "\n",
       "    .dataframe tbody tr th {\n",
       "        vertical-align: top;\n",
       "    }\n",
       "\n",
       "    .dataframe thead th {\n",
       "        text-align: right;\n",
       "    }\n",
       "</style>\n",
       "<table border=\"1\" class=\"dataframe\">\n",
       "  <thead>\n",
       "    <tr style=\"text-align: right;\">\n",
       "      <th></th>\n",
       "      <th>steps</th>\n",
       "    </tr>\n",
       "    <tr>\n",
       "      <th>Date</th>\n",
       "      <th></th>\n",
       "    </tr>\n",
       "  </thead>\n",
       "  <tbody>\n",
       "    <tr>\n",
       "      <th>2019-05-08</th>\n",
       "      <td>1493</td>\n",
       "    </tr>\n",
       "    <tr>\n",
       "      <th>2019-05-09</th>\n",
       "      <td>5289</td>\n",
       "    </tr>\n",
       "    <tr>\n",
       "      <th>2019-05-10</th>\n",
       "      <td>9988</td>\n",
       "    </tr>\n",
       "    <tr>\n",
       "      <th>2019-05-11</th>\n",
       "      <td>8385</td>\n",
       "    </tr>\n",
       "    <tr>\n",
       "      <th>2019-05-12</th>\n",
       "      <td>1011</td>\n",
       "    </tr>\n",
       "    <tr>\n",
       "      <th>...</th>\n",
       "      <td>...</td>\n",
       "    </tr>\n",
       "    <tr>\n",
       "      <th>2020-02-26</th>\n",
       "      <td>1026</td>\n",
       "    </tr>\n",
       "    <tr>\n",
       "      <th>2020-02-27</th>\n",
       "      <td>1329</td>\n",
       "    </tr>\n",
       "    <tr>\n",
       "      <th>2020-02-28</th>\n",
       "      <td>6618</td>\n",
       "    </tr>\n",
       "    <tr>\n",
       "      <th>2020-02-29</th>\n",
       "      <td>11330</td>\n",
       "    </tr>\n",
       "    <tr>\n",
       "      <th>2020-03-01</th>\n",
       "      <td>5623</td>\n",
       "    </tr>\n",
       "  </tbody>\n",
       "</table>\n",
       "<p>294 rows × 1 columns</p>\n",
       "</div>"
      ],
      "text/plain": [
       "            steps\n",
       "Date             \n",
       "2019-05-08   1493\n",
       "2019-05-09   5289\n",
       "2019-05-10   9988\n",
       "2019-05-11   8385\n",
       "2019-05-12   1011\n",
       "...           ...\n",
       "2020-02-26   1026\n",
       "2020-02-27   1329\n",
       "2020-02-28   6618\n",
       "2020-02-29  11330\n",
       "2020-03-01   5623\n",
       "\n",
       "[294 rows x 1 columns]"
      ]
     },
     "execution_count": 134,
     "metadata": {},
     "output_type": "execute_result"
    }
   ],
   "source": [
    "# print the new data\n",
    "df"
   ]
  },
  {
   "cell_type": "code",
   "execution_count": 135,
   "id": "1b8f038a-070b-459e-8056-c7e812b9ccf9",
   "metadata": {
    "execution": {
     "iopub.execute_input": "2023-03-29T08:56:17.670014Z",
     "iopub.status.busy": "2023-03-29T08:56:17.669664Z",
     "iopub.status.idle": "2023-03-29T08:56:17.674755Z",
     "shell.execute_reply": "2023-03-29T08:56:17.674202Z",
     "shell.execute_reply.started": "2023-03-29T08:56:17.669991Z"
    },
    "scrolled": false,
    "tags": []
   },
   "outputs": [],
   "source": [
    "#Step 3: generate a new data set with missing dates\n",
    "df2 = df.reindex(new_date_range, fill_value=np.nan).reset_index().rename(columns={'index':'Date'})"
   ]
  },
  {
   "cell_type": "code",
   "execution_count": 136,
   "id": "c5facad9-363a-4384-b347-2786259208da",
   "metadata": {
    "execution": {
     "iopub.execute_input": "2023-03-29T08:56:17.676067Z",
     "iopub.status.busy": "2023-03-29T08:56:17.675685Z",
     "iopub.status.idle": "2023-03-29T08:56:17.740646Z",
     "shell.execute_reply": "2023-03-29T08:56:17.740156Z",
     "shell.execute_reply.started": "2023-03-29T08:56:17.676049Z"
    },
    "scrolled": false,
    "tags": []
   },
   "outputs": [
    {
     "data": {
      "text/html": [
       "<div>\n",
       "<style scoped>\n",
       "    .dataframe tbody tr th:only-of-type {\n",
       "        vertical-align: middle;\n",
       "    }\n",
       "\n",
       "    .dataframe tbody tr th {\n",
       "        vertical-align: top;\n",
       "    }\n",
       "\n",
       "    .dataframe thead th {\n",
       "        text-align: right;\n",
       "    }\n",
       "</style>\n",
       "<table border=\"1\" class=\"dataframe\">\n",
       "  <thead>\n",
       "    <tr style=\"text-align: right;\">\n",
       "      <th></th>\n",
       "      <th>Date</th>\n",
       "      <th>steps</th>\n",
       "    </tr>\n",
       "  </thead>\n",
       "  <tbody>\n",
       "    <tr>\n",
       "      <th>0</th>\n",
       "      <td>2019-05-08</td>\n",
       "      <td>1493.0</td>\n",
       "    </tr>\n",
       "    <tr>\n",
       "      <th>1</th>\n",
       "      <td>2019-05-09</td>\n",
       "      <td>5289.0</td>\n",
       "    </tr>\n",
       "    <tr>\n",
       "      <th>2</th>\n",
       "      <td>2019-05-10</td>\n",
       "      <td>9988.0</td>\n",
       "    </tr>\n",
       "    <tr>\n",
       "      <th>3</th>\n",
       "      <td>2019-05-11</td>\n",
       "      <td>8385.0</td>\n",
       "    </tr>\n",
       "    <tr>\n",
       "      <th>4</th>\n",
       "      <td>2019-05-12</td>\n",
       "      <td>1011.0</td>\n",
       "    </tr>\n",
       "    <tr>\n",
       "      <th>...</th>\n",
       "      <td>...</td>\n",
       "      <td>...</td>\n",
       "    </tr>\n",
       "    <tr>\n",
       "      <th>294</th>\n",
       "      <td>2020-02-26</td>\n",
       "      <td>1026.0</td>\n",
       "    </tr>\n",
       "    <tr>\n",
       "      <th>295</th>\n",
       "      <td>2020-02-27</td>\n",
       "      <td>1329.0</td>\n",
       "    </tr>\n",
       "    <tr>\n",
       "      <th>296</th>\n",
       "      <td>2020-02-28</td>\n",
       "      <td>6618.0</td>\n",
       "    </tr>\n",
       "    <tr>\n",
       "      <th>297</th>\n",
       "      <td>2020-02-29</td>\n",
       "      <td>11330.0</td>\n",
       "    </tr>\n",
       "    <tr>\n",
       "      <th>298</th>\n",
       "      <td>2020-03-01</td>\n",
       "      <td>5623.0</td>\n",
       "    </tr>\n",
       "  </tbody>\n",
       "</table>\n",
       "<p>299 rows × 2 columns</p>\n",
       "</div>"
      ],
      "text/plain": [
       "          Date    steps\n",
       "0   2019-05-08   1493.0\n",
       "1   2019-05-09   5289.0\n",
       "2   2019-05-10   9988.0\n",
       "3   2019-05-11   8385.0\n",
       "4   2019-05-12   1011.0\n",
       "..         ...      ...\n",
       "294 2020-02-26   1026.0\n",
       "295 2020-02-27   1329.0\n",
       "296 2020-02-28   6618.0\n",
       "297 2020-02-29  11330.0\n",
       "298 2020-03-01   5623.0\n",
       "\n",
       "[299 rows x 2 columns]"
      ]
     },
     "execution_count": 136,
     "metadata": {},
     "output_type": "execute_result"
    }
   ],
   "source": [
    "#print the new dataset\n",
    "df2"
   ]
  },
  {
   "cell_type": "code",
   "execution_count": 138,
   "id": "adc2d9d9-78d1-46bf-bdc2-07fd40723e3f",
   "metadata": {
    "execution": {
     "iopub.execute_input": "2023-03-29T08:56:18.032829Z",
     "iopub.status.busy": "2023-03-29T08:56:18.032533Z",
     "iopub.status.idle": "2023-03-29T08:56:18.041348Z",
     "shell.execute_reply": "2023-03-29T08:56:18.040827Z",
     "shell.execute_reply.started": "2023-03-29T08:56:18.032809Z"
    },
    "scrolled": false,
    "tags": []
   },
   "outputs": [
    {
     "data": {
      "text/html": [
       "<div>\n",
       "<style scoped>\n",
       "    .dataframe tbody tr th:only-of-type {\n",
       "        vertical-align: middle;\n",
       "    }\n",
       "\n",
       "    .dataframe tbody tr th {\n",
       "        vertical-align: top;\n",
       "    }\n",
       "\n",
       "    .dataframe thead th {\n",
       "        text-align: right;\n",
       "    }\n",
       "</style>\n",
       "<table border=\"1\" class=\"dataframe\">\n",
       "  <thead>\n",
       "    <tr style=\"text-align: right;\">\n",
       "      <th></th>\n",
       "      <th>index</th>\n",
       "      <th>Date</th>\n",
       "      <th>steps</th>\n",
       "      <th>diff_date</th>\n",
       "    </tr>\n",
       "  </thead>\n",
       "  <tbody>\n",
       "  </tbody>\n",
       "</table>\n",
       "</div>"
      ],
      "text/plain": [
       "Empty DataFrame\n",
       "Columns: [index, Date, steps, diff_date]\n",
       "Index: []"
      ]
     },
     "execution_count": 138,
     "metadata": {},
     "output_type": "execute_result"
    }
   ],
   "source": [
    "#Test 1, check if there are some missing dates\n",
    "missing_dates = df2.reset_index()\n",
    "missing_dates[\"diff_date\"] = pd.to_datetime(missing_dates.Date).diff().dt.days\n",
    "missing_dates[missing_dates.diff_date>1]"
   ]
  },
  {
   "cell_type": "code",
   "execution_count": 139,
   "id": "834f2923-5188-40d0-8969-151d24ca99eb",
   "metadata": {
    "execution": {
     "iopub.execute_input": "2023-03-29T08:57:52.670703Z",
     "iopub.status.busy": "2023-03-29T08:57:52.670337Z",
     "iopub.status.idle": "2023-03-29T08:57:52.678117Z",
     "shell.execute_reply": "2023-03-29T08:57:52.677453Z",
     "shell.execute_reply.started": "2023-03-29T08:57:52.670679Z"
    },
    "scrolled": false,
    "tags": []
   },
   "outputs": [
    {
     "data": {
      "text/html": [
       "<div>\n",
       "<style scoped>\n",
       "    .dataframe tbody tr th:only-of-type {\n",
       "        vertical-align: middle;\n",
       "    }\n",
       "\n",
       "    .dataframe tbody tr th {\n",
       "        vertical-align: top;\n",
       "    }\n",
       "\n",
       "    .dataframe thead th {\n",
       "        text-align: right;\n",
       "    }\n",
       "</style>\n",
       "<table border=\"1\" class=\"dataframe\">\n",
       "  <thead>\n",
       "    <tr style=\"text-align: right;\">\n",
       "      <th></th>\n",
       "      <th>Date</th>\n",
       "      <th>steps</th>\n",
       "    </tr>\n",
       "  </thead>\n",
       "  <tbody>\n",
       "    <tr>\n",
       "      <th>22</th>\n",
       "      <td>2019-05-30</td>\n",
       "      <td>NaN</td>\n",
       "    </tr>\n",
       "    <tr>\n",
       "      <th>25</th>\n",
       "      <td>2019-06-02</td>\n",
       "      <td>NaN</td>\n",
       "    </tr>\n",
       "    <tr>\n",
       "      <th>40</th>\n",
       "      <td>2019-06-17</td>\n",
       "      <td>NaN</td>\n",
       "    </tr>\n",
       "    <tr>\n",
       "      <th>83</th>\n",
       "      <td>2019-07-30</td>\n",
       "      <td>NaN</td>\n",
       "    </tr>\n",
       "    <tr>\n",
       "      <th>212</th>\n",
       "      <td>2019-12-06</td>\n",
       "      <td>NaN</td>\n",
       "    </tr>\n",
       "  </tbody>\n",
       "</table>\n",
       "</div>"
      ],
      "text/plain": [
       "          Date  steps\n",
       "22  2019-05-30    NaN\n",
       "25  2019-06-02    NaN\n",
       "40  2019-06-17    NaN\n",
       "83  2019-07-30    NaN\n",
       "212 2019-12-06    NaN"
      ]
     },
     "execution_count": 139,
     "metadata": {},
     "output_type": "execute_result"
    }
   ],
   "source": [
    "#Test 2, check if there are nulls, note the number of nulls should be equal to the number of missing dates\n",
    "df2[df2.steps.isna()]"
   ]
  },
  {
   "cell_type": "markdown",
   "id": "6fad9efc-fea6-4c89-9810-14d2e6b6ea80",
   "metadata": {
    "execution": {
     "iopub.execute_input": "2023-03-29T08:57:39.750086Z",
     "iopub.status.busy": "2023-03-29T08:57:39.749734Z",
     "iopub.status.idle": "2023-03-29T08:57:39.757169Z",
     "shell.execute_reply": "2023-03-29T08:57:39.756648Z",
     "shell.execute_reply.started": "2023-03-29T08:57:39.750064Z"
    },
    "tags": []
   },
   "source": [
    "Impute dataset with Kalman smoothing\n",
    "---\n",
    "Filling missing values by estimating a joint probability\n",
    "distribution over the variables for each timeframe."
   ]
  },
  {
   "cell_type": "code",
   "execution_count": 140,
   "id": "c5e9f7ef",
   "metadata": {
    "scrolled": false
   },
   "outputs": [],
   "source": [
    "#Borrow a library from R\n",
    "imputeTS = importr(\"imputeTS\")\n",
    "kalman_StructTs = robjects.r[\"na.kalman\"]\n",
    "kalman_auto_arima = robjects.r[\"na.kalman\"]"
   ]
  },
  {
   "cell_type": "code",
   "execution_count": 146,
   "id": "273d919d-115f-4dcf-bfb1-bc56f6275335",
   "metadata": {
    "scrolled": false
   },
   "outputs": [
    {
     "data": {
      "text/html": [
       "<div>\n",
       "<style scoped>\n",
       "    .dataframe tbody tr th:only-of-type {\n",
       "        vertical-align: middle;\n",
       "    }\n",
       "\n",
       "    .dataframe tbody tr th {\n",
       "        vertical-align: top;\n",
       "    }\n",
       "\n",
       "    .dataframe thead th {\n",
       "        text-align: right;\n",
       "    }\n",
       "</style>\n",
       "<table border=\"1\" class=\"dataframe\">\n",
       "  <thead>\n",
       "    <tr style=\"text-align: right;\">\n",
       "      <th></th>\n",
       "      <th>steps</th>\n",
       "    </tr>\n",
       "  </thead>\n",
       "  <tbody>\n",
       "    <tr>\n",
       "      <th>0</th>\n",
       "      <td>1493.0</td>\n",
       "    </tr>\n",
       "    <tr>\n",
       "      <th>1</th>\n",
       "      <td>5289.0</td>\n",
       "    </tr>\n",
       "    <tr>\n",
       "      <th>2</th>\n",
       "      <td>9988.0</td>\n",
       "    </tr>\n",
       "    <tr>\n",
       "      <th>3</th>\n",
       "      <td>8385.0</td>\n",
       "    </tr>\n",
       "    <tr>\n",
       "      <th>4</th>\n",
       "      <td>1011.0</td>\n",
       "    </tr>\n",
       "    <tr>\n",
       "      <th>...</th>\n",
       "      <td>...</td>\n",
       "    </tr>\n",
       "    <tr>\n",
       "      <th>294</th>\n",
       "      <td>1026.0</td>\n",
       "    </tr>\n",
       "    <tr>\n",
       "      <th>295</th>\n",
       "      <td>1329.0</td>\n",
       "    </tr>\n",
       "    <tr>\n",
       "      <th>296</th>\n",
       "      <td>6618.0</td>\n",
       "    </tr>\n",
       "    <tr>\n",
       "      <th>297</th>\n",
       "      <td>11330.0</td>\n",
       "    </tr>\n",
       "    <tr>\n",
       "      <th>298</th>\n",
       "      <td>5623.0</td>\n",
       "    </tr>\n",
       "  </tbody>\n",
       "</table>\n",
       "<p>299 rows × 1 columns</p>\n",
       "</div>"
      ],
      "text/plain": [
       "       steps\n",
       "0     1493.0\n",
       "1     5289.0\n",
       "2     9988.0\n",
       "3     8385.0\n",
       "4     1011.0\n",
       "..       ...\n",
       "294   1026.0\n",
       "295   1329.0\n",
       "296   6618.0\n",
       "297  11330.0\n",
       "298   5623.0\n",
       "\n",
       "[299 rows x 1 columns]"
      ]
     },
     "execution_count": 146,
     "metadata": {},
     "output_type": "execute_result"
    }
   ],
   "source": [
    "estimate = kalman_StructTs(df2.steps, model = \"StructTS\")\n",
    "estimate = pd.DataFrame(estimate, columns = [\"steps\"])\n",
    "estimate"
   ]
  },
  {
   "cell_type": "code",
   "execution_count": 147,
   "id": "f1de7a0f",
   "metadata": {
    "scrolled": false
   },
   "outputs": [],
   "source": [
    "df3 = df2.drop(columns = \"steps\")\n",
    "df3[\"steps\"] = pd.DataFrame(estimate)"
   ]
  },
  {
   "cell_type": "code",
   "execution_count": 148,
   "id": "425fc642",
   "metadata": {
    "scrolled": false
   },
   "outputs": [
    {
     "data": {
      "text/html": [
       "<div>\n",
       "<style scoped>\n",
       "    .dataframe tbody tr th:only-of-type {\n",
       "        vertical-align: middle;\n",
       "    }\n",
       "\n",
       "    .dataframe tbody tr th {\n",
       "        vertical-align: top;\n",
       "    }\n",
       "\n",
       "    .dataframe thead th {\n",
       "        text-align: right;\n",
       "    }\n",
       "</style>\n",
       "<table border=\"1\" class=\"dataframe\">\n",
       "  <thead>\n",
       "    <tr style=\"text-align: right;\">\n",
       "      <th></th>\n",
       "      <th>Date</th>\n",
       "      <th>steps</th>\n",
       "    </tr>\n",
       "  </thead>\n",
       "  <tbody>\n",
       "    <tr>\n",
       "      <th>0</th>\n",
       "      <td>2019-05-08</td>\n",
       "      <td>1493.0</td>\n",
       "    </tr>\n",
       "    <tr>\n",
       "      <th>1</th>\n",
       "      <td>2019-05-09</td>\n",
       "      <td>5289.0</td>\n",
       "    </tr>\n",
       "    <tr>\n",
       "      <th>2</th>\n",
       "      <td>2019-05-10</td>\n",
       "      <td>9988.0</td>\n",
       "    </tr>\n",
       "    <tr>\n",
       "      <th>3</th>\n",
       "      <td>2019-05-11</td>\n",
       "      <td>8385.0</td>\n",
       "    </tr>\n",
       "    <tr>\n",
       "      <th>4</th>\n",
       "      <td>2019-05-12</td>\n",
       "      <td>1011.0</td>\n",
       "    </tr>\n",
       "    <tr>\n",
       "      <th>...</th>\n",
       "      <td>...</td>\n",
       "      <td>...</td>\n",
       "    </tr>\n",
       "    <tr>\n",
       "      <th>294</th>\n",
       "      <td>2020-02-26</td>\n",
       "      <td>1026.0</td>\n",
       "    </tr>\n",
       "    <tr>\n",
       "      <th>295</th>\n",
       "      <td>2020-02-27</td>\n",
       "      <td>1329.0</td>\n",
       "    </tr>\n",
       "    <tr>\n",
       "      <th>296</th>\n",
       "      <td>2020-02-28</td>\n",
       "      <td>6618.0</td>\n",
       "    </tr>\n",
       "    <tr>\n",
       "      <th>297</th>\n",
       "      <td>2020-02-29</td>\n",
       "      <td>11330.0</td>\n",
       "    </tr>\n",
       "    <tr>\n",
       "      <th>298</th>\n",
       "      <td>2020-03-01</td>\n",
       "      <td>5623.0</td>\n",
       "    </tr>\n",
       "  </tbody>\n",
       "</table>\n",
       "<p>299 rows × 2 columns</p>\n",
       "</div>"
      ],
      "text/plain": [
       "          Date    steps\n",
       "0   2019-05-08   1493.0\n",
       "1   2019-05-09   5289.0\n",
       "2   2019-05-10   9988.0\n",
       "3   2019-05-11   8385.0\n",
       "4   2019-05-12   1011.0\n",
       "..         ...      ...\n",
       "294 2020-02-26   1026.0\n",
       "295 2020-02-27   1329.0\n",
       "296 2020-02-28   6618.0\n",
       "297 2020-02-29  11330.0\n",
       "298 2020-03-01   5623.0\n",
       "\n",
       "[299 rows x 2 columns]"
      ]
     },
     "execution_count": 148,
     "metadata": {},
     "output_type": "execute_result"
    }
   ],
   "source": [
    "df3"
   ]
  },
  {
   "cell_type": "code",
   "execution_count": 149,
   "id": "bda36dc2",
   "metadata": {
    "scrolled": false
   },
   "outputs": [
    {
     "data": {
      "text/html": [
       "<div>\n",
       "<style scoped>\n",
       "    .dataframe tbody tr th:only-of-type {\n",
       "        vertical-align: middle;\n",
       "    }\n",
       "\n",
       "    .dataframe tbody tr th {\n",
       "        vertical-align: top;\n",
       "    }\n",
       "\n",
       "    .dataframe thead th {\n",
       "        text-align: right;\n",
       "    }\n",
       "</style>\n",
       "<table border=\"1\" class=\"dataframe\">\n",
       "  <thead>\n",
       "    <tr style=\"text-align: right;\">\n",
       "      <th></th>\n",
       "      <th>Date</th>\n",
       "      <th>steps</th>\n",
       "    </tr>\n",
       "  </thead>\n",
       "  <tbody>\n",
       "  </tbody>\n",
       "</table>\n",
       "</div>"
      ],
      "text/plain": [
       "Empty DataFrame\n",
       "Columns: [Date, steps]\n",
       "Index: []"
      ]
     },
     "execution_count": 149,
     "metadata": {},
     "output_type": "execute_result"
    }
   ],
   "source": [
    "df3[df3.steps.isna()]"
   ]
  },
  {
   "cell_type": "code",
   "execution_count": 150,
   "id": "de8be318",
   "metadata": {
    "scrolled": false
   },
   "outputs": [
    {
     "name": "stderr",
     "output_type": "stream",
     "text": [
      "/var/folders/bw/7qdh0ynx0c9bf8j9_sfpt8fw0000gn/T/ipykernel_56011/1134462817.py:12: UserWarning:\n",
      "\n",
      "FixedFormatter should only be used together with FixedLocator\n",
      "\n"
     ]
    },
    {
     "data": {
      "text/plain": [
       "<Figure size 2000x2000 with 0 Axes>"
      ]
     },
     "metadata": {},
     "output_type": "display_data"
    },
    {
     "data": {
      "image/png": "[encoded data removed]",
      "text/plain": [
       "<Figure size 640x480 with 1 Axes>"
      ]
     },
     "metadata": {},
     "output_type": "display_data"
    }
   ],
   "source": [
    "plt.figure(figsize=(20,20)) # this creates a figure 8 inch wide, 4 inch high\n",
    "\n",
    "fig, ax = plt.subplots()\n",
    "# plot with a horizontal orientation\n",
    "sns.lineplot(x=\"Date\", y=\"steps\",data=df3)\n",
    "\n",
    "# set the frequency for labelling the yaxis\n",
    "freq = int(1)\n",
    "\n",
    "# set the zlabels as the datetime data for the given labelling frequency,\n",
    "# also use only the date for the label\n",
    "ax.set_xticklabels(ts.iloc[::freq].Date.dt.date, rotation=90)\n",
    "plt.tight_layout()\n",
    "plt.show()"
   ]
  },
  {
   "cell_type": "markdown",
   "id": "deb41442",
   "metadata": {},
   "source": [
    "Autocorrelation\n",
    "---\n",
    "As we said, the autocorrelation is the correlation between one variable and the delayed copy of itself.\n",
    "We can manually calculate the autocorrelation between the variable ‘steps’ and it delayed copy at lag 1"
   ]
  },
  {
   "cell_type": "code",
   "execution_count": 224,
   "id": "209d6b24",
   "metadata": {
    "scrolled": false
   },
   "outputs": [],
   "source": [
    "df4 = df3.set_index(pd.DatetimeIndex(df3['Date'])).drop(columns='Date')"
   ]
  },
  {
   "cell_type": "markdown",
   "id": "dfa929d5",
   "metadata": {},
   "source": [
    "Plotting ACF\n",
    "---"
   ]
  },
  {
   "cell_type": "code",
   "execution_count": 230,
   "id": "def291f1",
   "metadata": {
    "scrolled": false
   },
   "outputs": [
    {
     "data": {
      "image/png": "[encoded data removed]",
      "text/plain": [
       "<Figure size 640x480 with 1 Axes>"
      ]
     },
     "metadata": {},
     "output_type": "display_data"
    }
   ],
   "source": [
    "sm.graphics.tsa.plot_acf(df4.values.squeeze(), lags=50)\n",
    "plt.show()"
   ]
  },
  {
   "cell_type": "markdown",
   "id": "62e80328",
   "metadata": {},
   "source": [
    "Plotting PACF\n",
    "---"
   ]
  },
  {
   "cell_type": "code",
   "execution_count": 231,
   "id": "c2ff45ff",
   "metadata": {
    "scrolled": false
   },
   "outputs": [
    {
     "data": {
      "image/png": "[encoded data removed]",
      "text/plain": [
       "<Figure size 640x480 with 1 Axes>"
      ]
     },
     "metadata": {},
     "output_type": "display_data"
    }
   ],
   "source": [
    "sm.graphics.tsa.plot_pacf(df4.values.squeeze(), lags=50)\n",
    "plt.show()"
   ]
  },
  {
   "cell_type": "markdown",
   "id": "6abdaa0a",
   "metadata": {},
   "source": [
    "Plotting Correlation Matrix\n",
    "---"
   ]
  },
  {
   "cell_type": "code",
   "execution_count": 232,
   "id": "776c654f",
   "metadata": {
    "scrolled": false
   },
   "outputs": [],
   "source": [
    "corr = df4.copy()\n",
    "corr['lag_1'] = corr.steps.shift(1)\n",
    "corr['lag_2'] = corr.steps.shift(2)\n",
    "corr['lag_3'] = corr.steps.shift(3)\n",
    "corr['lag_4'] = corr.steps.shift(4)\n",
    "corr['lag_5'] = corr.steps.shift(5)\n",
    "corr['lag_6'] = corr.steps.shift(6)\n",
    "corr['lag_7'] = corr.steps.shift(7)\n",
    "corr['lag_8'] = corr.steps.shift(8)\n",
    "corr['lag_9'] = corr.steps.shift(9)\n",
    "corr['lag_10'] = corr.steps.shift(10)\n"
   ]
  },
  {
   "cell_type": "code",
   "execution_count": 233,
   "id": "551f4726",
   "metadata": {
    "scrolled": true
   },
   "outputs": [
    {
     "data": {
      "text/html": [
       "<style type=\"text/css\">\n",
       "#T_596f5_row0_col0, #T_596f5_row1_col1, #T_596f5_row2_col2, #T_596f5_row3_col3, #T_596f5_row4_col4, #T_596f5_row5_col5, #T_596f5_row6_col6, #T_596f5_row7_col7, #T_596f5_row8_col8, #T_596f5_row9_col9, #T_596f5_row10_col10 {\n",
       "  background-color: #b40426;\n",
       "  color: #f1f1f1;\n",
       "}\n",
       "#T_596f5_row0_col1, #T_596f5_row1_col0, #T_596f5_row1_col2, #T_596f5_row2_col1, #T_596f5_row2_col3, #T_596f5_row2_col10, #T_596f5_row3_col2, #T_596f5_row3_col4, #T_596f5_row4_col3, #T_596f5_row4_col5, #T_596f5_row5_col4, #T_596f5_row5_col6, #T_596f5_row6_col7, #T_596f5_row7_col8, #T_596f5_row8_col7, #T_596f5_row8_col9, #T_596f5_row9_col8, #T_596f5_row9_col10, #T_596f5_row10_col9 {\n",
       "  background-color: #3b4cc0;\n",
       "  color: #f1f1f1;\n",
       "}\n",
       "#T_596f5_row0_col2, #T_596f5_row1_col3, #T_596f5_row2_col0, #T_596f5_row3_col1, #T_596f5_row9_col7 {\n",
       "  background-color: #98b9ff;\n",
       "  color: #000000;\n",
       "}\n",
       "#T_596f5_row0_col3, #T_596f5_row0_col6, #T_596f5_row1_col4, #T_596f5_row3_col0, #T_596f5_row3_col6, #T_596f5_row4_col1, #T_596f5_row5_col2, #T_596f5_row6_col0, #T_596f5_row6_col3, #T_596f5_row6_col9, #T_596f5_row7_col1, #T_596f5_row7_col4, #T_596f5_row7_col10, #T_596f5_row8_col2, #T_596f5_row8_col5, #T_596f5_row9_col3, #T_596f5_row9_col6, #T_596f5_row10_col7 {\n",
       "  background-color: #5470de;\n",
       "  color: #f1f1f1;\n",
       "}\n",
       "#T_596f5_row0_col4, #T_596f5_row1_col5 {\n",
       "  background-color: #6b8df0;\n",
       "  color: #f1f1f1;\n",
       "}\n",
       "#T_596f5_row0_col5, #T_596f5_row7_col2, #T_596f5_row8_col3, #T_596f5_row9_col4, #T_596f5_row10_col5 {\n",
       "  background-color: #6687ed;\n",
       "  color: #f1f1f1;\n",
       "}\n",
       "#T_596f5_row0_col7, #T_596f5_row1_col8 {\n",
       "  background-color: #88abfd;\n",
       "  color: #000000;\n",
       "}\n",
       "#T_596f5_row0_col8, #T_596f5_row1_col9, #T_596f5_row6_col5, #T_596f5_row7_col6, #T_596f5_row9_col1, #T_596f5_row10_col2 {\n",
       "  background-color: #3c4ec2;\n",
       "  color: #f1f1f1;\n",
       "}\n",
       "#T_596f5_row0_col9, #T_596f5_row1_col10 {\n",
       "  background-color: #6c8ff1;\n",
       "  color: #f1f1f1;\n",
       "}\n",
       "#T_596f5_row0_col10 {\n",
       "  background-color: #5a78e4;\n",
       "  color: #f1f1f1;\n",
       "}\n",
       "#T_596f5_row1_col6, #T_596f5_row2_col7, #T_596f5_row3_col8, #T_596f5_row4_col9, #T_596f5_row5_col0, #T_596f5_row5_col10, #T_596f5_row6_col1 {\n",
       "  background-color: #6485ec;\n",
       "  color: #f1f1f1;\n",
       "}\n",
       "#T_596f5_row1_col7, #T_596f5_row2_col8, #T_596f5_row3_col9, #T_596f5_row4_col7, #T_596f5_row4_col10, #T_596f5_row5_col8 {\n",
       "  background-color: #536edd;\n",
       "  color: #f1f1f1;\n",
       "}\n",
       "#T_596f5_row2_col4, #T_596f5_row3_col5, #T_596f5_row4_col2, #T_596f5_row5_col3, #T_596f5_row5_col7, #T_596f5_row6_col8, #T_596f5_row7_col9, #T_596f5_row8_col10, #T_596f5_row10_col8 {\n",
       "  background-color: #9abbff;\n",
       "  color: #000000;\n",
       "}\n",
       "#T_596f5_row2_col5, #T_596f5_row10_col4 {\n",
       "  background-color: #5572df;\n",
       "  color: #f1f1f1;\n",
       "}\n",
       "#T_596f5_row2_col6, #T_596f5_row4_col0, #T_596f5_row5_col1, #T_596f5_row6_col2, #T_596f5_row7_col3, #T_596f5_row8_col4 {\n",
       "  background-color: #6a8bef;\n",
       "  color: #f1f1f1;\n",
       "}\n",
       "#T_596f5_row2_col9, #T_596f5_row3_col10, #T_596f5_row7_col0, #T_596f5_row8_col1 {\n",
       "  background-color: #89acfd;\n",
       "  color: #000000;\n",
       "}\n",
       "#T_596f5_row3_col7, #T_596f5_row4_col8, #T_596f5_row9_col5 {\n",
       "  background-color: #688aef;\n",
       "  color: #f1f1f1;\n",
       "}\n",
       "#T_596f5_row4_col6, #T_596f5_row7_col5, #T_596f5_row8_col6 {\n",
       "  background-color: #9bbcff;\n",
       "  color: #000000;\n",
       "}\n",
       "#T_596f5_row5_col9, #T_596f5_row6_col10, #T_596f5_row10_col6 {\n",
       "  background-color: #6788ee;\n",
       "  color: #f1f1f1;\n",
       "}\n",
       "#T_596f5_row6_col4 {\n",
       "  background-color: #9dbdff;\n",
       "  color: #000000;\n",
       "}\n",
       "#T_596f5_row8_col0 {\n",
       "  background-color: #3d50c3;\n",
       "  color: #f1f1f1;\n",
       "}\n",
       "#T_596f5_row9_col0, #T_596f5_row10_col1 {\n",
       "  background-color: #6e90f2;\n",
       "  color: #f1f1f1;\n",
       "}\n",
       "#T_596f5_row9_col2, #T_596f5_row10_col3 {\n",
       "  background-color: #8badfd;\n",
       "  color: #000000;\n",
       "}\n",
       "#T_596f5_row10_col0 {\n",
       "  background-color: #5b7ae5;\n",
       "  color: #f1f1f1;\n",
       "}\n",
       "</style>\n",
       "<table id=\"T_596f5\">\n",
       "  <thead>\n",
       "    <tr>\n",
       "      <th class=\"blank level0\" >&nbsp;</th>\n",
       "      <th id=\"T_596f5_level0_col0\" class=\"col_heading level0 col0\" >steps</th>\n",
       "      <th id=\"T_596f5_level0_col1\" class=\"col_heading level0 col1\" >lag_1</th>\n",
       "      <th id=\"T_596f5_level0_col2\" class=\"col_heading level0 col2\" >lag_2</th>\n",
       "      <th id=\"T_596f5_level0_col3\" class=\"col_heading level0 col3\" >lag_3</th>\n",
       "      <th id=\"T_596f5_level0_col4\" class=\"col_heading level0 col4\" >lag_4</th>\n",
       "      <th id=\"T_596f5_level0_col5\" class=\"col_heading level0 col5\" >lag_5</th>\n",
       "      <th id=\"T_596f5_level0_col6\" class=\"col_heading level0 col6\" >lag_6</th>\n",
       "      <th id=\"T_596f5_level0_col7\" class=\"col_heading level0 col7\" >lag_7</th>\n",
       "      <th id=\"T_596f5_level0_col8\" class=\"col_heading level0 col8\" >lag_8</th>\n",
       "      <th id=\"T_596f5_level0_col9\" class=\"col_heading level0 col9\" >lag_9</th>\n",
       "      <th id=\"T_596f5_level0_col10\" class=\"col_heading level0 col10\" >lag_10</th>\n",
       "    </tr>\n",
       "  </thead>\n",
       "  <tbody>\n",
       "    <tr>\n",
       "      <th id=\"T_596f5_level0_row0\" class=\"row_heading level0 row0\" >steps</th>\n",
       "      <td id=\"T_596f5_row0_col0\" class=\"data row0 col0\" >1.000000</td>\n",
       "      <td id=\"T_596f5_row0_col1\" class=\"data row0 col1\" >0.070160</td>\n",
       "      <td id=\"T_596f5_row0_col2\" class=\"data row0 col2\" >0.333720</td>\n",
       "      <td id=\"T_596f5_row0_col3\" class=\"data row0 col3\" >0.148021</td>\n",
       "      <td id=\"T_596f5_row0_col4\" class=\"data row0 col4\" >0.211556</td>\n",
       "      <td id=\"T_596f5_row0_col5\" class=\"data row0 col5\" >0.195488</td>\n",
       "      <td id=\"T_596f5_row0_col6\" class=\"data row0 col6\" >0.149164</td>\n",
       "      <td id=\"T_596f5_row0_col7\" class=\"data row0 col7\" >0.293933</td>\n",
       "      <td id=\"T_596f5_row0_col8\" class=\"data row0 col8\" >0.078008</td>\n",
       "      <td id=\"T_596f5_row0_col9\" class=\"data row0 col9\" >0.221150</td>\n",
       "      <td id=\"T_596f5_row0_col10\" class=\"data row0 col10\" >0.168889</td>\n",
       "    </tr>\n",
       "    <tr>\n",
       "      <th id=\"T_596f5_level0_row1\" class=\"row_heading level0 row1\" >lag_1</th>\n",
       "      <td id=\"T_596f5_row1_col0\" class=\"data row1 col0\" >0.070160</td>\n",
       "      <td id=\"T_596f5_row1_col1\" class=\"data row1 col1\" >1.000000</td>\n",
       "      <td id=\"T_596f5_row1_col2\" class=\"data row1 col2\" >0.070877</td>\n",
       "      <td id=\"T_596f5_row1_col3\" class=\"data row1 col3\" >0.333621</td>\n",
       "      <td id=\"T_596f5_row1_col4\" class=\"data row1 col4\" >0.147193</td>\n",
       "      <td id=\"T_596f5_row1_col5\" class=\"data row1 col5\" >0.210833</td>\n",
       "      <td id=\"T_596f5_row1_col6\" class=\"data row1 col6\" >0.197021</td>\n",
       "      <td id=\"T_596f5_row1_col7\" class=\"data row1 col7\" >0.148289</td>\n",
       "      <td id=\"T_596f5_row1_col8\" class=\"data row1 col8\" >0.293671</td>\n",
       "      <td id=\"T_596f5_row1_col9\" class=\"data row1 col9\" >0.076952</td>\n",
       "      <td id=\"T_596f5_row1_col10\" class=\"data row1 col10\" >0.221440</td>\n",
       "    </tr>\n",
       "    <tr>\n",
       "      <th id=\"T_596f5_level0_row2\" class=\"row_heading level0 row2\" >lag_2</th>\n",
       "      <td id=\"T_596f5_row2_col0\" class=\"data row2 col0\" >0.333720</td>\n",
       "      <td id=\"T_596f5_row2_col1\" class=\"data row2 col1\" >0.070877</td>\n",
       "      <td id=\"T_596f5_row2_col2\" class=\"data row2 col2\" >1.000000</td>\n",
       "      <td id=\"T_596f5_row2_col3\" class=\"data row2 col3\" >0.071244</td>\n",
       "      <td id=\"T_596f5_row2_col4\" class=\"data row2 col4\" >0.336477</td>\n",
       "      <td id=\"T_596f5_row2_col5\" class=\"data row2 col5\" >0.149755</td>\n",
       "      <td id=\"T_596f5_row2_col6\" class=\"data row2 col6\" >0.209235</td>\n",
       "      <td id=\"T_596f5_row2_col7\" class=\"data row2 col7\" >0.199654</td>\n",
       "      <td id=\"T_596f5_row2_col8\" class=\"data row2 col8\" >0.149078</td>\n",
       "      <td id=\"T_596f5_row2_col9\" class=\"data row2 col9\" >0.296625</td>\n",
       "      <td id=\"T_596f5_row2_col10\" class=\"data row2 col10\" >0.076590</td>\n",
       "    </tr>\n",
       "    <tr>\n",
       "      <th id=\"T_596f5_level0_row3\" class=\"row_heading level0 row3\" >lag_3</th>\n",
       "      <td id=\"T_596f5_row3_col0\" class=\"data row3 col0\" >0.148021</td>\n",
       "      <td id=\"T_596f5_row3_col1\" class=\"data row3 col1\" >0.333621</td>\n",
       "      <td id=\"T_596f5_row3_col2\" class=\"data row3 col2\" >0.071244</td>\n",
       "      <td id=\"T_596f5_row3_col3\" class=\"data row3 col3\" >1.000000</td>\n",
       "      <td id=\"T_596f5_row3_col4\" class=\"data row3 col4\" >0.070818</td>\n",
       "      <td id=\"T_596f5_row3_col5\" class=\"data row3 col5\" >0.336557</td>\n",
       "      <td id=\"T_596f5_row3_col6\" class=\"data row3 col6\" >0.150595</td>\n",
       "      <td id=\"T_596f5_row3_col7\" class=\"data row3 col7\" >0.209065</td>\n",
       "      <td id=\"T_596f5_row3_col8\" class=\"data row3 col8\" >0.199516</td>\n",
       "      <td id=\"T_596f5_row3_col9\" class=\"data row3 col9\" >0.148763</td>\n",
       "      <td id=\"T_596f5_row3_col10\" class=\"data row3 col10\" >0.296777</td>\n",
       "    </tr>\n",
       "    <tr>\n",
       "      <th id=\"T_596f5_level0_row4\" class=\"row_heading level0 row4\" >lag_4</th>\n",
       "      <td id=\"T_596f5_row4_col0\" class=\"data row4 col0\" >0.211556</td>\n",
       "      <td id=\"T_596f5_row4_col1\" class=\"data row4 col1\" >0.147193</td>\n",
       "      <td id=\"T_596f5_row4_col2\" class=\"data row4 col2\" >0.336477</td>\n",
       "      <td id=\"T_596f5_row4_col3\" class=\"data row4 col3\" >0.070818</td>\n",
       "      <td id=\"T_596f5_row4_col4\" class=\"data row4 col4\" >1.000000</td>\n",
       "      <td id=\"T_596f5_row4_col5\" class=\"data row4 col5\" >0.067373</td>\n",
       "      <td id=\"T_596f5_row4_col6\" class=\"data row4 col6\" >0.341341</td>\n",
       "      <td id=\"T_596f5_row4_col7\" class=\"data row4 col7\" >0.147495</td>\n",
       "      <td id=\"T_596f5_row4_col8\" class=\"data row4 col8\" >0.208326</td>\n",
       "      <td id=\"T_596f5_row4_col9\" class=\"data row4 col9\" >0.196498</td>\n",
       "      <td id=\"T_596f5_row4_col10\" class=\"data row4 col10\" >0.149758</td>\n",
       "    </tr>\n",
       "    <tr>\n",
       "      <th id=\"T_596f5_level0_row5\" class=\"row_heading level0 row5\" >lag_5</th>\n",
       "      <td id=\"T_596f5_row5_col0\" class=\"data row5 col0\" >0.195488</td>\n",
       "      <td id=\"T_596f5_row5_col1\" class=\"data row5 col1\" >0.210833</td>\n",
       "      <td id=\"T_596f5_row5_col2\" class=\"data row5 col2\" >0.149755</td>\n",
       "      <td id=\"T_596f5_row5_col3\" class=\"data row5 col3\" >0.336557</td>\n",
       "      <td id=\"T_596f5_row5_col4\" class=\"data row5 col4\" >0.067373</td>\n",
       "      <td id=\"T_596f5_row5_col5\" class=\"data row5 col5\" >1.000000</td>\n",
       "      <td id=\"T_596f5_row5_col6\" class=\"data row5 col6\" >0.071392</td>\n",
       "      <td id=\"T_596f5_row5_col7\" class=\"data row5 col7\" >0.338806</td>\n",
       "      <td id=\"T_596f5_row5_col8\" class=\"data row5 col8\" >0.146603</td>\n",
       "      <td id=\"T_596f5_row5_col9\" class=\"data row5 col9\" >0.205198</td>\n",
       "      <td id=\"T_596f5_row5_col10\" class=\"data row5 col10\" >0.197652</td>\n",
       "    </tr>\n",
       "    <tr>\n",
       "      <th id=\"T_596f5_level0_row6\" class=\"row_heading level0 row6\" >lag_6</th>\n",
       "      <td id=\"T_596f5_row6_col0\" class=\"data row6 col0\" >0.149164</td>\n",
       "      <td id=\"T_596f5_row6_col1\" class=\"data row6 col1\" >0.197021</td>\n",
       "      <td id=\"T_596f5_row6_col2\" class=\"data row6 col2\" >0.209235</td>\n",
       "      <td id=\"T_596f5_row6_col3\" class=\"data row6 col3\" >0.150595</td>\n",
       "      <td id=\"T_596f5_row6_col4\" class=\"data row6 col4\" >0.341341</td>\n",
       "      <td id=\"T_596f5_row6_col5\" class=\"data row6 col5\" >0.071392</td>\n",
       "      <td id=\"T_596f5_row6_col6\" class=\"data row6 col6\" >1.000000</td>\n",
       "      <td id=\"T_596f5_row6_col7\" class=\"data row6 col7\" >0.075335</td>\n",
       "      <td id=\"T_596f5_row6_col8\" class=\"data row6 col8\" >0.340633</td>\n",
       "      <td id=\"T_596f5_row6_col9\" class=\"data row6 col9\" >0.150943</td>\n",
       "      <td id=\"T_596f5_row6_col10\" class=\"data row6 col10\" >0.204867</td>\n",
       "    </tr>\n",
       "    <tr>\n",
       "      <th id=\"T_596f5_level0_row7\" class=\"row_heading level0 row7\" >lag_7</th>\n",
       "      <td id=\"T_596f5_row7_col0\" class=\"data row7 col0\" >0.293933</td>\n",
       "      <td id=\"T_596f5_row7_col1\" class=\"data row7 col1\" >0.148289</td>\n",
       "      <td id=\"T_596f5_row7_col2\" class=\"data row7 col2\" >0.199654</td>\n",
       "      <td id=\"T_596f5_row7_col3\" class=\"data row7 col3\" >0.209065</td>\n",
       "      <td id=\"T_596f5_row7_col4\" class=\"data row7 col4\" >0.147495</td>\n",
       "      <td id=\"T_596f5_row7_col5\" class=\"data row7 col5\" >0.338806</td>\n",
       "      <td id=\"T_596f5_row7_col6\" class=\"data row7 col6\" >0.075335</td>\n",
       "      <td id=\"T_596f5_row7_col7\" class=\"data row7 col7\" >1.000000</td>\n",
       "      <td id=\"T_596f5_row7_col8\" class=\"data row7 col8\" >0.074303</td>\n",
       "      <td id=\"T_596f5_row7_col9\" class=\"data row7 col9\" >0.338067</td>\n",
       "      <td id=\"T_596f5_row7_col10\" class=\"data row7 col10\" >0.151975</td>\n",
       "    </tr>\n",
       "    <tr>\n",
       "      <th id=\"T_596f5_level0_row8\" class=\"row_heading level0 row8\" >lag_8</th>\n",
       "      <td id=\"T_596f5_row8_col0\" class=\"data row8 col0\" >0.078008</td>\n",
       "      <td id=\"T_596f5_row8_col1\" class=\"data row8 col1\" >0.293671</td>\n",
       "      <td id=\"T_596f5_row8_col2\" class=\"data row8 col2\" >0.149078</td>\n",
       "      <td id=\"T_596f5_row8_col3\" class=\"data row8 col3\" >0.199516</td>\n",
       "      <td id=\"T_596f5_row8_col4\" class=\"data row8 col4\" >0.208326</td>\n",
       "      <td id=\"T_596f5_row8_col5\" class=\"data row8 col5\" >0.146603</td>\n",
       "      <td id=\"T_596f5_row8_col6\" class=\"data row8 col6\" >0.340633</td>\n",
       "      <td id=\"T_596f5_row8_col7\" class=\"data row8 col7\" >0.074303</td>\n",
       "      <td id=\"T_596f5_row8_col8\" class=\"data row8 col8\" >1.000000</td>\n",
       "      <td id=\"T_596f5_row8_col9\" class=\"data row8 col9\" >0.073234</td>\n",
       "      <td id=\"T_596f5_row8_col10\" class=\"data row8 col10\" >0.338389</td>\n",
       "    </tr>\n",
       "    <tr>\n",
       "      <th id=\"T_596f5_level0_row9\" class=\"row_heading level0 row9\" >lag_9</th>\n",
       "      <td id=\"T_596f5_row9_col0\" class=\"data row9 col0\" >0.221150</td>\n",
       "      <td id=\"T_596f5_row9_col1\" class=\"data row9 col1\" >0.076952</td>\n",
       "      <td id=\"T_596f5_row9_col2\" class=\"data row9 col2\" >0.296625</td>\n",
       "      <td id=\"T_596f5_row9_col3\" class=\"data row9 col3\" >0.148763</td>\n",
       "      <td id=\"T_596f5_row9_col4\" class=\"data row9 col4\" >0.196498</td>\n",
       "      <td id=\"T_596f5_row9_col5\" class=\"data row9 col5\" >0.205198</td>\n",
       "      <td id=\"T_596f5_row9_col6\" class=\"data row9 col6\" >0.150943</td>\n",
       "      <td id=\"T_596f5_row9_col7\" class=\"data row9 col7\" >0.338067</td>\n",
       "      <td id=\"T_596f5_row9_col8\" class=\"data row9 col8\" >0.073234</td>\n",
       "      <td id=\"T_596f5_row9_col9\" class=\"data row9 col9\" >1.000000</td>\n",
       "      <td id=\"T_596f5_row9_col10\" class=\"data row9 col10\" >0.074140</td>\n",
       "    </tr>\n",
       "    <tr>\n",
       "      <th id=\"T_596f5_level0_row10\" class=\"row_heading level0 row10\" >lag_10</th>\n",
       "      <td id=\"T_596f5_row10_col0\" class=\"data row10 col0\" >0.168889</td>\n",
       "      <td id=\"T_596f5_row10_col1\" class=\"data row10 col1\" >0.221440</td>\n",
       "      <td id=\"T_596f5_row10_col2\" class=\"data row10 col2\" >0.076590</td>\n",
       "      <td id=\"T_596f5_row10_col3\" class=\"data row10 col3\" >0.296777</td>\n",
       "      <td id=\"T_596f5_row10_col4\" class=\"data row10 col4\" >0.149758</td>\n",
       "      <td id=\"T_596f5_row10_col5\" class=\"data row10 col5\" >0.197652</td>\n",
       "      <td id=\"T_596f5_row10_col6\" class=\"data row10 col6\" >0.204867</td>\n",
       "      <td id=\"T_596f5_row10_col7\" class=\"data row10 col7\" >0.151975</td>\n",
       "      <td id=\"T_596f5_row10_col8\" class=\"data row10 col8\" >0.338389</td>\n",
       "      <td id=\"T_596f5_row10_col9\" class=\"data row10 col9\" >0.074140</td>\n",
       "      <td id=\"T_596f5_row10_col10\" class=\"data row10 col10\" >1.000000</td>\n",
       "    </tr>\n",
       "  </tbody>\n",
       "</table>\n"
      ],
      "text/plain": [
       "<pandas.io.formats.style.Styler at 0x1922f86a0>"
      ]
     },
     "execution_count": 233,
     "metadata": {},
     "output_type": "execute_result"
    }
   ],
   "source": [
    "res = corr.corr()\n",
    "res.style.background_gradient(cmap='coolwarm')"
   ]
  },
  {
   "cell_type": "markdown",
   "id": "4e488a60",
   "metadata": {},
   "source": [
    "Stationarity\n",
    "---\n",
    "<br>\n",
    "Stationarity implies that all moments (i.e., means, variances, covariances, lagged covariances, etc.) are invariant over time.\n",
    "<br>\n",
    "A time series is stationary when:\n",
    "<br>\n",
    "the mean is stable over time (i.e, no trend or cycle): mean-stationary\n",
    "<br>\n",
    "the variances and autocovariances are stable over time: covariance-stationary\n",
    "<br>\n",
    "Reasons for non-stationarity:\n",
    "<br>\n",
    "the process has a unit root (e.g., a random walk)\n",
    "<br>\n",
    "the process is characterized by a trend over time\n",
    "<br>\n",
    "the parameters (e.g., autoregressive parameter, intercept) change over time\n",
    "<br>\n",
    "Stationarity can be checked in R by performing an Augmented Dickey-Fuller (ADF) and the Kwiatkowski–Phillips–Schmidt–Shin (KPSS) tests.\n",
    "<br>\n",
    "Before running the tests, let’s insepct the time series another time"
   ]
  },
  {
   "cell_type": "code",
   "execution_count": 234,
   "id": "3fb28b48",
   "metadata": {},
   "outputs": [
    {
     "data": {
      "text/plain": [
       "<Figure size 2000x2000 with 0 Axes>"
      ]
     },
     "metadata": {},
     "output_type": "display_data"
    },
    {
     "data": {
      "image/png": "[encoded data removed]",
      "text/plain": [
       "<Figure size 640x480 with 1 Axes>"
      ]
     },
     "metadata": {},
     "output_type": "display_data"
    }
   ],
   "source": [
    "plt.figure(figsize=(20,20)) # this creates a figure 8 inch wide, 4 inch high\n",
    "\n",
    "fig, ax = plt.subplots()\n",
    "# plot with a horizontal orientation\n",
    "sns.lineplot(x=\"Date\", y=\"steps\",data=df3)\n",
    "\n",
    "# set the frequency for labelling the yaxis\n",
    "freq = int(1)\n",
    "\n",
    "# set the zlabels as the datetime data for the given labelling frequency,\n",
    "# also use only the date for the label\n",
    "ax.set_xticklabels(ts.iloc[::freq].Date.dt.date, rotation=90)\n",
    "plt.tight_layout()\n",
    "plt.show()"
   ]
  },
  {
   "cell_type": "markdown",
   "id": "803a30f2",
   "metadata": {},
   "source": [
    "Test for unit root (e.g., random walk):\n",
    "---\n",
    "- The alternative hypothesis (H1) is: stationarity"
   ]
  },
  {
   "cell_type": "code",
   "execution_count": 269,
   "id": "1d3caa1c",
   "metadata": {},
   "outputs": [
    {
     "name": "stdout",
     "output_type": "stream",
     "text": [
      "ADF Statistic: -3.394677\n",
      "p-value: 0.011142\n",
      "\t1%: -3.453\n",
      "\t5%: -2.871\n",
      "\t10%: -2.572\n"
     ]
    }
   ],
   "source": [
    "result = sm.tsa.stattools.adfuller(df4, maxlag=6,autolag = \"AIC\")\n",
    "print('ADF Statistic: %f' % result[0])\n",
    "print('p-value: %f' % result[1])\n",
    "for key, value in result[4].items():\n",
    " print('\\t%s: %.3f' % (key, value))"
   ]
  },
  {
   "cell_type": "markdown",
   "id": "1af225df",
   "metadata": {},
   "source": [
    "Test for unit mean:\n",
    "---\n",
    "- The alternative hypothesis (H1) is: not mean-stationarity\n",
    "- https://www.statsmodels.org/dev/generated/statsmodels.tsa.stattools.kpss.html"
   ]
  },
  {
   "cell_type": "code",
   "execution_count": 284,
   "id": "57fbecff",
   "metadata": {},
   "outputs": [
    {
     "name": "stdout",
     "output_type": "stream",
     "text": [
      "KPSS Statistic: 0.118970\n",
      "p-value: 0.100000\n",
      "\t10%: 0.119\n",
      "\t5%: 0.146\n",
      "\t2.5%: 0.176\n",
      "\t1%: 0.216\n"
     ]
    }
   ],
   "source": [
    "result = sm.tsa.stattools.kpss(df4, regression='ct', nlags = 5)\n",
    "print('KPSS Statistic: %f' % result[0])\n",
    "print('p-value: %f' % result[1])\n",
    "for key, value in result[3].items():\n",
    " print('\\t%s: %.3f' % (key, value))"
   ]
  },
  {
   "cell_type": "code",
   "execution_count": null,
   "id": "eeabcd34",
   "metadata": {},
   "outputs": [],
   "source": []
  }
 ],
 "metadata": {
  "kernelspec": {
   "display_name": "Python 3 (ipykernel)",
   "language": "python",
   "name": "python3"
  },
  "language_info": {
   "codemirror_mode": {
    "name": "ipython",
    "version": 3
   },
   "file_extension": ".py",
   "mimetype": "text/x-python",
   "name": "python",
   "nbconvert_exporter": "python",
   "pygments_lexer": "ipython3",
   "version": "3.8.16"
  }
 },
 "nbformat": 4,
 "nbformat_minor": 5
}
