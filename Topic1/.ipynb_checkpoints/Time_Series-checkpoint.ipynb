{
 "cells": [
  {
   "cell_type": "code",
   "execution_count": 1,
   "id": "776e69da-d53c-45e4-966c-194180fdf7b5",
   "metadata": {
    "execution": {
     "iopub.execute_input": "2023-03-29T10:04:56.162839Z",
     "iopub.status.busy": "2023-03-29T10:04:56.162482Z",
     "iopub.status.idle": "2023-03-29T10:04:56.184827Z",
     "shell.execute_reply": "2023-03-29T10:04:56.184089Z",
     "shell.execute_reply.started": "2023-03-29T10:04:56.162814Z"
    },
    "tags": []
   },
   "outputs": [
    {
     "ename": "ModuleNotFoundError",
     "evalue": "No module named 'darts'",
     "output_type": "error",
     "traceback": [
      "\u001b[0;31m---------------------------------------------------------------------------\u001b[0m",
      "\u001b[0;31mModuleNotFoundError\u001b[0m                       Traceback (most recent call last)",
      "Cell \u001b[0;32mIn[1], line 1\u001b[0m\n\u001b[0;32m----> 1\u001b[0m \u001b[38;5;28;01mimport\u001b[39;00m \u001b[38;5;21;01mdarts\u001b[39;00m\n\u001b[1;32m      2\u001b[0m \u001b[38;5;28;01mimport\u001b[39;00m \u001b[38;5;21;01mpandas\u001b[39;00m \u001b[38;5;28;01mas\u001b[39;00m \u001b[38;5;21;01mpd\u001b[39;00m \n\u001b[1;32m      3\u001b[0m \u001b[38;5;28;01mimport\u001b[39;00m \u001b[38;5;21;01mplotly\u001b[39;00m\u001b[38;5;21;01m.\u001b[39;00m\u001b[38;5;21;01mexpress\u001b[39;00m \u001b[38;5;28;01mas\u001b[39;00m \u001b[38;5;21;01mpx\u001b[39;00m\n",
      "\u001b[0;31mModuleNotFoundError\u001b[0m: No module named 'darts'"
     ]
    }
   ],
   "source": [
    "import darts\n",
    "import pandas as pd \n",
    "import plotly.express as px\n",
    "import numpy as np\n",
    "from fancyimpute import kalman_StructTs\n",
    "import matplotlib.pyplot as plt"
   ]
  },
  {
   "cell_type": "markdown",
   "id": "921fc43f-18c4-4bbc-8d3d-181ea0dfdcd9",
   "metadata": {},
   "source": [
    "Read the data\n",
    "---"
   ]
  },
  {
   "cell_type": "code",
   "execution_count": null,
   "id": "9a4978a5-b62f-4755-9589-5b33db2e6e08",
   "metadata": {
    "execution": {
     "iopub.execute_input": "2023-03-29T08:40:40.673233Z",
     "iopub.status.busy": "2023-03-29T08:40:40.672885Z",
     "iopub.status.idle": "2023-03-29T08:40:40.679983Z",
     "shell.execute_reply": "2023-03-29T08:40:40.679445Z",
     "shell.execute_reply.started": "2023-03-29T08:40:40.673210Z"
    },
    "tags": []
   },
   "outputs": [],
   "source": [
    "ts = pd.read_csv('ts_steps_P246.csv')"
   ]
  },
  {
   "cell_type": "markdown",
   "id": "949bb7e3-5e9d-40ae-afa8-01e21f1a81f4",
   "metadata": {},
   "source": [
    "Print the data\n",
    "---"
   ]
  },
  {
   "cell_type": "code",
   "execution_count": 90,
   "id": "272cde7d-1fe4-4b1d-86ab-39c8f8ec5450",
   "metadata": {
    "execution": {
     "iopub.execute_input": "2023-03-29T08:40:40.714365Z",
     "iopub.status.busy": "2023-03-29T08:40:40.714093Z",
     "iopub.status.idle": "2023-03-29T08:40:40.746082Z",
     "shell.execute_reply": "2023-03-29T08:40:40.745523Z",
     "shell.execute_reply.started": "2023-03-29T08:40:40.714346Z"
    },
    "tags": []
   },
   "outputs": [
    {
     "data": {
      "text/html": [
       "<div>\n",
       "<style scoped>\n",
       "    .dataframe tbody tr th:only-of-type {\n",
       "        vertical-align: middle;\n",
       "    }\n",
       "\n",
       "    .dataframe tbody tr th {\n",
       "        vertical-align: top;\n",
       "    }\n",
       "\n",
       "    .dataframe thead th {\n",
       "        text-align: right;\n",
       "    }\n",
       "</style>\n",
       "<table border=\"1\" class=\"dataframe\">\n",
       "  <thead>\n",
       "    <tr style=\"text-align: right;\">\n",
       "      <th></th>\n",
       "      <th>date</th>\n",
       "      <th>steps</th>\n",
       "    </tr>\n",
       "  </thead>\n",
       "  <tbody>\n",
       "    <tr>\n",
       "      <th>0</th>\n",
       "      <td>2019-05-08</td>\n",
       "      <td>1493</td>\n",
       "    </tr>\n",
       "    <tr>\n",
       "      <th>1</th>\n",
       "      <td>2019-05-09</td>\n",
       "      <td>5289</td>\n",
       "    </tr>\n",
       "    <tr>\n",
       "      <th>2</th>\n",
       "      <td>2019-05-10</td>\n",
       "      <td>9988</td>\n",
       "    </tr>\n",
       "    <tr>\n",
       "      <th>3</th>\n",
       "      <td>2019-05-11</td>\n",
       "      <td>8385</td>\n",
       "    </tr>\n",
       "    <tr>\n",
       "      <th>4</th>\n",
       "      <td>2019-05-12</td>\n",
       "      <td>1011</td>\n",
       "    </tr>\n",
       "    <tr>\n",
       "      <th>...</th>\n",
       "      <td>...</td>\n",
       "      <td>...</td>\n",
       "    </tr>\n",
       "    <tr>\n",
       "      <th>289</th>\n",
       "      <td>2020-02-26</td>\n",
       "      <td>1026</td>\n",
       "    </tr>\n",
       "    <tr>\n",
       "      <th>290</th>\n",
       "      <td>2020-02-27</td>\n",
       "      <td>1329</td>\n",
       "    </tr>\n",
       "    <tr>\n",
       "      <th>291</th>\n",
       "      <td>2020-02-28</td>\n",
       "      <td>6618</td>\n",
       "    </tr>\n",
       "    <tr>\n",
       "      <th>292</th>\n",
       "      <td>2020-02-29</td>\n",
       "      <td>11330</td>\n",
       "    </tr>\n",
       "    <tr>\n",
       "      <th>293</th>\n",
       "      <td>2020-03-01</td>\n",
       "      <td>5623</td>\n",
       "    </tr>\n",
       "  </tbody>\n",
       "</table>\n",
       "<p>294 rows × 2 columns</p>\n",
       "</div>"
      ],
      "text/plain": [
       "           date  steps\n",
       "0    2019-05-08   1493\n",
       "1    2019-05-09   5289\n",
       "2    2019-05-10   9988\n",
       "3    2019-05-11   8385\n",
       "4    2019-05-12   1011\n",
       "..          ...    ...\n",
       "289  2020-02-26   1026\n",
       "290  2020-02-27   1329\n",
       "291  2020-02-28   6618\n",
       "292  2020-02-29  11330\n",
       "293  2020-03-01   5623\n",
       "\n",
       "[294 rows x 2 columns]"
      ]
     },
     "execution_count": 90,
     "metadata": {},
     "output_type": "execute_result"
    }
   ],
   "source": [
    "ts"
   ]
  },
  {
   "cell_type": "markdown",
   "id": "c2950e44-b261-4721-b747-f6f43c1ca0de",
   "metadata": {},
   "source": [
    "When the TS starts?\n",
    "---"
   ]
  },
  {
   "cell_type": "code",
   "execution_count": 91,
   "id": "7a3b689d-cc29-46ba-9015-7a22905f64fe",
   "metadata": {
    "execution": {
     "iopub.execute_input": "2023-03-29T08:40:41.003537Z",
     "iopub.status.busy": "2023-03-29T08:40:41.003214Z",
     "iopub.status.idle": "2023-03-29T08:40:41.006982Z",
     "shell.execute_reply": "2023-03-29T08:40:41.006261Z",
     "shell.execute_reply.started": "2023-03-29T08:40:41.003516Z"
    },
    "tags": []
   },
   "outputs": [],
   "source": [
    "ts_min = min(ts.date)"
   ]
  },
  {
   "cell_type": "markdown",
   "id": "24cf3cd0-493d-49d4-ad01-d1f6c79ed1d5",
   "metadata": {},
   "source": [
    "Show the minimum date\n",
    "---"
   ]
  },
  {
   "cell_type": "code",
   "execution_count": 92,
   "id": "a65e68c0-085e-482d-8d49-fc69aa2fd260",
   "metadata": {
    "execution": {
     "iopub.execute_input": "2023-03-29T08:40:41.669418Z",
     "iopub.status.busy": "2023-03-29T08:40:41.669062Z",
     "iopub.status.idle": "2023-03-29T08:40:41.673906Z",
     "shell.execute_reply": "2023-03-29T08:40:41.673184Z",
     "shell.execute_reply.started": "2023-03-29T08:40:41.669393Z"
    },
    "tags": []
   },
   "outputs": [
    {
     "data": {
      "text/plain": [
       "'2019-05-08'"
      ]
     },
     "execution_count": 92,
     "metadata": {},
     "output_type": "execute_result"
    }
   ],
   "source": [
    "ts_min"
   ]
  },
  {
   "cell_type": "markdown",
   "id": "8da95101-a075-4d9e-a9a9-bc7e44e7a596",
   "metadata": {},
   "source": [
    "When the TS end?\n",
    "---"
   ]
  },
  {
   "cell_type": "code",
   "execution_count": 93,
   "id": "70664ce1-3cdc-4316-b348-14834b060c06",
   "metadata": {
    "execution": {
     "iopub.execute_input": "2023-03-29T08:40:41.675321Z",
     "iopub.status.busy": "2023-03-29T08:40:41.675022Z",
     "iopub.status.idle": "2023-03-29T08:40:41.735838Z",
     "shell.execute_reply": "2023-03-29T08:40:41.735335Z",
     "shell.execute_reply.started": "2023-03-29T08:40:41.675303Z"
    },
    "tags": []
   },
   "outputs": [],
   "source": [
    "ts_max = max(ts.date)"
   ]
  },
  {
   "cell_type": "markdown",
   "id": "c72f6907-f0d0-46bb-b2de-103482ca12b8",
   "metadata": {},
   "source": [
    "Show the maximum date\n",
    "---"
   ]
  },
  {
   "cell_type": "code",
   "execution_count": 94,
   "id": "02700b05-6171-4f87-b241-f511a26a82e8",
   "metadata": {
    "execution": {
     "iopub.execute_input": "2023-03-29T08:40:41.922298Z",
     "iopub.status.busy": "2023-03-29T08:40:41.921962Z",
     "iopub.status.idle": "2023-03-29T08:40:41.926758Z",
     "shell.execute_reply": "2023-03-29T08:40:41.926038Z",
     "shell.execute_reply.started": "2023-03-29T08:40:41.922274Z"
    },
    "tags": []
   },
   "outputs": [
    {
     "data": {
      "text/plain": [
       "'2020-03-01'"
      ]
     },
     "execution_count": 94,
     "metadata": {},
     "output_type": "execute_result"
    }
   ],
   "source": [
    "ts_max"
   ]
  },
  {
   "cell_type": "markdown",
   "id": "0a60fbff-035f-4096-9040-9d0957366926",
   "metadata": {},
   "source": [
    "How long is the data?\n",
    "---"
   ]
  },
  {
   "cell_type": "code",
   "execution_count": 95,
   "id": "f3759111-e3bc-412c-9b28-90b7126f650f",
   "metadata": {
    "execution": {
     "iopub.execute_input": "2023-03-29T08:40:42.890006Z",
     "iopub.status.busy": "2023-03-29T08:40:42.889644Z",
     "iopub.status.idle": "2023-03-29T08:40:42.893699Z",
     "shell.execute_reply": "2023-03-29T08:40:42.892903Z",
     "shell.execute_reply.started": "2023-03-29T08:40:42.889983Z"
    },
    "tags": []
   },
   "outputs": [],
   "source": [
    "data_length = len(ts.date.unique())"
   ]
  },
  {
   "cell_type": "markdown",
   "id": "e79d44e0-e366-4937-932f-abced42ce3d2",
   "metadata": {},
   "source": [
    "Show the length of the data\n",
    "---"
   ]
  },
  {
   "cell_type": "code",
   "execution_count": 96,
   "id": "83fb4254-cbce-47be-ba31-30f16f62c81f",
   "metadata": {
    "execution": {
     "iopub.execute_input": "2023-03-29T08:40:44.696851Z",
     "iopub.status.busy": "2023-03-29T08:40:44.696509Z",
     "iopub.status.idle": "2023-03-29T08:40:44.701293Z",
     "shell.execute_reply": "2023-03-29T08:40:44.700567Z",
     "shell.execute_reply.started": "2023-03-29T08:40:44.696828Z"
    },
    "tags": []
   },
   "outputs": [
    {
     "data": {
      "text/plain": [
       "294"
      ]
     },
     "execution_count": 96,
     "metadata": {},
     "output_type": "execute_result"
    }
   ],
   "source": [
    "data_length"
   ]
  },
  {
   "cell_type": "markdown",
   "id": "be458fe6-4e4d-4012-b49d-609743073bb2",
   "metadata": {
    "execution": {
     "iopub.execute_input": "2023-03-29T07:11:41.871732Z",
     "iopub.status.busy": "2023-03-29T07:11:41.871376Z",
     "iopub.status.idle": "2023-03-29T07:11:41.875972Z",
     "shell.execute_reply": "2023-03-29T07:11:41.875306Z",
     "shell.execute_reply.started": "2023-03-29T07:11:41.871709Z"
    },
    "tags": []
   },
   "source": [
    "How long is the data?\n",
    "---"
   ]
  },
  {
   "cell_type": "code",
   "execution_count": 97,
   "id": "dde2bd17-f90b-4a7c-b0b6-6c3db57d1572",
   "metadata": {
    "execution": {
     "iopub.execute_input": "2023-03-29T08:40:46.669304Z",
     "iopub.status.busy": "2023-03-29T08:40:46.668950Z",
     "iopub.status.idle": "2023-03-29T08:40:46.674687Z",
     "shell.execute_reply": "2023-03-29T08:40:46.673929Z",
     "shell.execute_reply.started": "2023-03-29T08:40:46.669282Z"
    },
    "tags": []
   },
   "outputs": [],
   "source": [
    "ts_length = max(pd.to_datetime(ts.date)) - min(pd.to_datetime(ts.date))"
   ]
  },
  {
   "cell_type": "markdown",
   "id": "ea77c7fe-951f-42cb-8b24-83ddb8e99a24",
   "metadata": {},
   "source": [
    "Show how long is the date\n",
    "---"
   ]
  },
  {
   "cell_type": "code",
   "execution_count": 98,
   "id": "6b243eb8-35b7-413b-b0cf-907b1065c345",
   "metadata": {
    "execution": {
     "iopub.execute_input": "2023-03-29T08:40:50.669286Z",
     "iopub.status.busy": "2023-03-29T08:40:50.668906Z",
     "iopub.status.idle": "2023-03-29T08:40:50.673737Z",
     "shell.execute_reply": "2023-03-29T08:40:50.673023Z",
     "shell.execute_reply.started": "2023-03-29T08:40:50.669260Z"
    },
    "tags": []
   },
   "outputs": [
    {
     "data": {
      "text/plain": [
       "Timedelta('298 days 00:00:00')"
      ]
     },
     "execution_count": 98,
     "metadata": {},
     "output_type": "execute_result"
    }
   ],
   "source": [
    "ts_length"
   ]
  },
  {
   "cell_type": "markdown",
   "id": "17de0226-22a7-4b8c-9cc2-3000d126a9e7",
   "metadata": {},
   "source": [
    "Show the descriptive statistics\n",
    "---"
   ]
  },
  {
   "cell_type": "code",
   "execution_count": 99,
   "id": "573d5dab-2413-4103-9d48-62c43b40fb04",
   "metadata": {
    "execution": {
     "iopub.execute_input": "2023-03-29T08:40:50.957080Z",
     "iopub.status.busy": "2023-03-29T08:40:50.956745Z",
     "iopub.status.idle": "2023-03-29T08:40:50.964825Z",
     "shell.execute_reply": "2023-03-29T08:40:50.964113Z",
     "shell.execute_reply.started": "2023-03-29T08:40:50.957058Z"
    },
    "tags": []
   },
   "outputs": [
    {
     "data": {
      "text/plain": [
       "count      294.000000\n",
       "mean      7625.676871\n",
       "std       6198.166227\n",
       "min        649.000000\n",
       "25%       1703.500000\n",
       "50%       7370.500000\n",
       "75%      11071.750000\n",
       "max      34167.000000\n",
       "Name: steps, dtype: float64"
      ]
     },
     "execution_count": 99,
     "metadata": {},
     "output_type": "execute_result"
    }
   ],
   "source": [
    "ts.steps.describe()"
   ]
  },
  {
   "cell_type": "markdown",
   "id": "c0a18992-2b59-44cd-a5c1-72675b7d0749",
   "metadata": {},
   "source": [
    "Create Bar Chart\n",
    "---"
   ]
  },
  {
   "cell_type": "code",
   "execution_count": 100,
   "id": "79369a9c-3aef-467b-ae1d-abd72094d0fe",
   "metadata": {
    "execution": {
     "iopub.execute_input": "2023-03-29T08:40:51.668555Z",
     "iopub.status.busy": "2023-03-29T08:40:51.668209Z",
     "iopub.status.idle": "2023-03-29T08:40:51.943089Z",
     "shell.execute_reply": "2023-03-29T08:40:51.942307Z",
     "shell.execute_reply.started": "2023-03-29T08:40:51.668532Z"
    },
    "tags": []
   },
   "outputs": [
    {
     "data": {
      "text/plain": [
       "array([[<Axes: title={'center': 'steps'}>]], dtype=object)"
      ]
     },
     "execution_count": 100,
     "metadata": {},
     "output_type": "execute_result"
    },
    {
     "data": {
      "image/png": "[encoded data removed]",
      "text/plain": [
       "<Figure size 640x480 with 1 Axes>"
      ]
     },
     "metadata": {},
     "output_type": "display_data"
    }
   ],
   "source": [
    "ts.hist(column='steps')"
   ]
  },
  {
   "cell_type": "markdown",
   "id": "5cbbb739-87a1-4ed2-817b-190a8d33a532",
   "metadata": {},
   "source": [
    "Create a time-series chart\n",
    "---"
   ]
  },
  {
   "cell_type": "code",
   "execution_count": 101,
   "id": "5af5f988-1696-4a9b-9f58-bdcdc0fe144b",
   "metadata": {
    "execution": {
     "iopub.execute_input": "2023-03-29T08:40:52.669229Z",
     "iopub.status.busy": "2023-03-29T08:40:52.668890Z",
     "iopub.status.idle": "2023-03-29T08:40:52.706168Z",
     "shell.execute_reply": "2023-03-29T08:40:52.705444Z",
     "shell.execute_reply.started": "2023-03-29T08:40:52.669206Z"
    },
    "tags": []
   },
   "outputs": [
    {
     "data": {
      "application/vnd.plotly.v1+json": {
       "config": {
        "plotlyServerURL": "https://plot.ly"
       },
       "data": [
        {
         "hovertemplate": "date=%{x}<br>steps=%{y}<extra></extra>",
         "legendgroup": "",
         "line": {
          "color": "#636efa",
          "dash": "solid"
         },
         "marker": {
          "symbol": "circle"
         },
         "mode": "lines",
         "name": "",
         "orientation": "v",
         "showlegend": false,
         "type": "scatter",
         "x": [
          "2019-05-08",
          "2019-05-09",
          "2019-05-10",
          "2019-05-11",
          "2019-05-12",
          "2019-05-13",
          "2019-05-14",
          "2019-05-15",
          "2019-05-16",
          "2019-05-17",
          "2019-05-18",
          "2019-05-19",
          "2019-05-20",
          "2019-05-21",
          "2019-05-22",
          "2019-05-23",
          "2019-05-24",
          "2019-05-25",
          "2019-05-26",
          "2019-05-27",
          "2019-05-28",
          "2019-05-29",
          "2019-05-31",
          "2019-06-01",
          "2019-06-03",
          "2019-06-04",
          "2019-06-05",
          "2019-06-06",
          "2019-06-07",
          "2019-06-08",
          "2019-06-09",
          "2019-06-10",
          "2019-06-11",
          "2019-06-12",
          "2019-06-13",
          "2019-06-14",
          "2019-06-15",
          "2019-06-16",
          "2019-06-18",
          "2019-06-19",
          "2019-06-20",
          "2019-06-21",
          "2019-06-22",
          "2019-06-23",
          "2019-06-24",
          "2019-06-25",
          "2019-06-26",
          "2019-06-27",
          "2019-06-28",
          "2019-06-29",
          "2019-06-30",
          "2019-07-01",
          "2019-07-02",
          "2019-07-03",
          "2019-07-04",
          "2019-07-05",
          "2019-07-06",
          "2019-07-07",
          "2019-07-08",
          "2019-07-09",
          "2019-07-10",
          "2019-07-11",
          "2019-07-12",
          "2019-07-13",
          "2019-07-14",
          "2019-07-15",
          "2019-07-16",
          "2019-07-17",
          "2019-07-18",
          "2019-07-19",
          "2019-07-20",
          "2019-07-21",
          "2019-07-22",
          "2019-07-23",
          "2019-07-24",
          "2019-07-25",
          "2019-07-26",
          "2019-07-27",
          "2019-07-28",
          "2019-07-29",
          "2019-07-31",
          "2019-08-01",
          "2019-08-02",
          "2019-08-03",
          "2019-08-04",
          "2019-08-05",
          "2019-08-06",
          "2019-08-07",
          "2019-08-08",
          "2019-08-09",
          "2019-08-10",
          "2019-08-11",
          "2019-08-12",
          "2019-08-13",
          "2019-08-14",
          "2019-08-15",
          "2019-08-16",
          "2019-08-17",
          "2019-08-18",
          "2019-08-19",
          "2019-08-20",
          "2019-08-21",
          "2019-08-22",
          "2019-08-23",
          "2019-08-24",
          "2019-08-25",
          "2019-08-26",
          "2019-08-27",
          "2019-08-28",
          "2019-08-29",
          "2019-08-30",
          "2019-08-31",
          "2019-09-01",
          "2019-09-02",
          "2019-09-03",
          "2019-09-04",
          "2019-09-05",
          "2019-09-06",
          "2019-09-07",
          "2019-09-08",
          "2019-09-09",
          "2019-09-10",
          "2019-09-11",
          "2019-09-12",
          "2019-09-13",
          "2019-09-14",
          "2019-09-15",
          "2019-09-16",
          "2019-09-17",
          "2019-09-18",
          "2019-09-19",
          "2019-09-20",
          "2019-09-21",
          "2019-09-22",
          "2019-09-23",
          "2019-09-24",
          "2019-09-25",
          "2019-09-26",
          "2019-09-27",
          "2019-09-28",
          "2019-09-29",
          "2019-09-30",
          "2019-10-01",
          "2019-10-02",
          "2019-10-03",
          "2019-10-04",
          "2019-10-05",
          "2019-10-06",
          "2019-10-07",
          "2019-10-08",
          "2019-10-09",
          "2019-10-10",
          "2019-10-11",
          "2019-10-12",
          "2019-10-13",
          "2019-10-14",
          "2019-10-15",
          "2019-10-16",
          "2019-10-17",
          "2019-10-18",
          "2019-10-19",
          "2019-10-20",
          "2019-10-21",
          "2019-10-22",
          "2019-10-23",
          "2019-10-24",
          "2019-10-25",
          "2019-10-26",
          "2019-10-27",
          "2019-10-28",
          "2019-10-29",
          "2019-10-30",
          "2019-10-31",
          "2019-11-01",
          "2019-11-02",
          "2019-11-03",
          "2019-11-04",
          "2019-11-05",
          "2019-11-06",
          "2019-11-07",
          "2019-11-08",
          "2019-11-09",
          "2019-11-10",
          "2019-11-11",
          "2019-11-12",
          "2019-11-13",
          "2019-11-14",
          "2019-11-15",
          "2019-11-16",
          "2019-11-17",
          "2019-11-18",
          "2019-11-19",
          "2019-11-20",
          "2019-11-21",
          "2019-11-22",
          "2019-11-23",
          "2019-11-24",
          "2019-11-25",
          "2019-11-26",
          "2019-11-27",
          "2019-11-28",
          "2019-11-29",
          "2019-11-30",
          "2019-12-01",
          "2019-12-02",
          "2019-12-03",
          "2019-12-04",
          "2019-12-05",
          "2019-12-07",
          "2019-12-08",
          "2019-12-09",
          "2019-12-10",
          "2019-12-11",
          "2019-12-12",
          "2019-12-13",
          "2019-12-14",
          "2019-12-15",
          "2019-12-16",
          "2019-12-17",
          "2019-12-18",
          "2019-12-19",
          "2019-12-20",
          "2019-12-21",
          "2019-12-22",
          "2019-12-23",
          "2019-12-24",
          "2019-12-25",
          "2019-12-26",
          "2019-12-27",
          "2019-12-28",
          "2019-12-29",
          "2019-12-30",
          "2019-12-31",
          "2020-01-01",
          "2020-01-02",
          "2020-01-03",
          "2020-01-04",
          "2020-01-05",
          "2020-01-06",
          "2020-01-07",
          "2020-01-08",
          "2020-01-09",
          "2020-01-10",
          "2020-01-11",
          "2020-01-12",
          "2020-01-13",
          "2020-01-14",
          "2020-01-15",
          "2020-01-16",
          "2020-01-17",
          "2020-01-18",
          "2020-01-19",
          "2020-01-20",
          "2020-01-21",
          "2020-01-22",
          "2020-01-23",
          "2020-01-24",
          "2020-01-25",
          "2020-01-26",
          "2020-01-27",
          "2020-01-28",
          "2020-01-29",
          "2020-01-30",
          "2020-01-31",
          "2020-02-01",
          "2020-02-02",
          "2020-02-03",
          "2020-02-04",
          "2020-02-05",
          "2020-02-06",
          "2020-02-07",
          "2020-02-08",
          "2020-02-09",
          "2020-02-10",
          "2020-02-11",
          "2020-02-12",
          "2020-02-13",
          "2020-02-14",
          "2020-02-15",
          "2020-02-16",
          "2020-02-17",
          "2020-02-18",
          "2020-02-19",
          "2020-02-20",
          "2020-02-21",
          "2020-02-22",
          "2020-02-23",
          "2020-02-24",
          "2020-02-25",
          "2020-02-26",
          "2020-02-27",
          "2020-02-28",
          "2020-02-29",
          "2020-03-01"
         ],
         "xaxis": "x",
         "y": [
          1493,
          5289,
          9988,
          8385,
          1011,
          1208,
          7709,
          3193,
          4810,
          4631,
          1048,
          2798,
          936,
          806,
          4049,
          5415,
          9306,
          10616,
          1387,
          1549,
          4781,
          3156,
          21298,
          1497,
          881,
          1278,
          782,
          5291,
          988,
          8233,
          1375,
          1464,
          5975,
          17128,
          1095,
          12051,
          8639,
          1360,
          975,
          8779,
          806,
          738,
          9221,
          1874,
          5903,
          2193,
          7637,
          925,
          1301,
          6252,
          2127,
          649,
          7679,
          836,
          8587,
          6819,
          12494,
          1410,
          9256,
          1723,
          963,
          13353,
          4289,
          1541,
          5519,
          3758,
          1134,
          2633,
          2650,
          10308,
          975,
          9413,
          1328,
          7401,
          841,
          13010,
          741,
          11011,
          820,
          8601,
          10804,
          818,
          9538,
          907,
          11159,
          1039,
          8983,
          1962,
          841,
          9766,
          734,
          11032,
          867,
          7898,
          750,
          8208,
          791,
          10230,
          867,
          10661,
          1036,
          8458,
          890,
          8128,
          1040,
          7455,
          1126,
          8836,
          1807,
          9644,
          6776,
          3636,
          10042,
          3222,
          4854,
          1698,
          9421,
          3164,
          9544,
          1334,
          9622,
          928,
          8324,
          839,
          6200,
          1141,
          7488,
          1905,
          10190,
          1188,
          3046,
          6249,
          1945,
          11532,
          12963,
          1094,
          14012,
          19780,
          15684,
          17939,
          14651,
          4552,
          11356,
          13458,
          5017,
          1286,
          3778,
          6210,
          15652,
          15751,
          12667,
          6583,
          8358,
          1573,
          9000,
          7812,
          13950,
          866,
          9297,
          11921,
          1220,
          12993,
          11085,
          8384,
          1141,
          15653,
          10463,
          3173,
          7403,
          7550,
          9699,
          9227,
          1754,
          5113,
          13183,
          4971,
          8470,
          13149,
          10458,
          12135,
          12937,
          3416,
          9802,
          10102,
          12329,
          761,
          7868,
          12285,
          12644,
          8219,
          10154,
          11348,
          11186,
          1447,
          6184,
          3370,
          1296,
          9614,
          8781,
          5579,
          2055,
          4553,
          1213,
          827,
          10997,
          16250,
          6265,
          20101,
          1048,
          4245,
          14232,
          17304,
          5480,
          19270,
          8828,
          18671,
          26643,
          6714,
          20326,
          9591,
          21592,
          18533,
          20030,
          10892,
          17377,
          19168,
          1776,
          13496,
          8002,
          12039,
          2979,
          2169,
          12926,
          1524,
          23590,
          9927,
          3428,
          1720,
          7673,
          27101,
          11548,
          22963,
          12757,
          7340,
          1165,
          4730,
          20866,
          3207,
          22104,
          12747,
          13935,
          34167,
          7746,
          15314,
          8473,
          21073,
          12122,
          5692,
          13732,
          6756,
          20629,
          1873,
          1593,
          13903,
          681,
          11158,
          7523,
          20723,
          3967,
          22910,
          7874,
          6817,
          1442,
          4734,
          26642,
          697,
          12625,
          7925,
          9635,
          4378,
          9568,
          14069,
          7150,
          14151,
          8916,
          1021,
          5606,
          1158,
          13972,
          1026,
          1329,
          6618,
          11330,
          5623
         ],
         "yaxis": "y"
        }
       ],
       "layout": {
        "autosize": true,
        "legend": {
         "tracegroupgap": 0
        },
        "margin": {
         "t": 60
        },
        "template": {
         "data": {
          "bar": [
           {
            "error_x": {
             "color": "#2a3f5f"
            },
            "error_y": {
             "color": "#2a3f5f"
            },
            "marker": {
             "line": {
              "color": "#E5ECF6",
              "width": 0.5
             },
             "pattern": {
              "fillmode": "overlay",
              "size": 10,
              "solidity": 0.2
             }
            },
            "type": "bar"
           }
          ],
          "barpolar": [
           {
            "marker": {
             "line": {
              "color": "#E5ECF6",
              "width": 0.5
             },
             "pattern": {
              "fillmode": "overlay",
              "size": 10,
              "solidity": 0.2
             }
            },
            "type": "barpolar"
           }
          ],
          "carpet": [
           {
            "aaxis": {
             "endlinecolor": "#2a3f5f",
             "gridcolor": "white",
             "linecolor": "white",
             "minorgridcolor": "white",
             "startlinecolor": "#2a3f5f"
            },
            "baxis": {
             "endlinecolor": "#2a3f5f",
             "gridcolor": "white",
             "linecolor": "white",
             "minorgridcolor": "white",
             "startlinecolor": "#2a3f5f"
            },
            "type": "carpet"
           }
          ],
          "choropleth": [
           {
            "colorbar": {
             "outlinewidth": 0,
             "ticks": ""
            },
            "type": "choropleth"
           }
          ],
          "contour": [
           {
            "colorbar": {
             "outlinewidth": 0,
             "ticks": ""
            },
            "colorscale": [
             [
              0,
              "#0d0887"
             ],
             [
              0.1111111111111111,
              "#46039f"
             ],
             [
              0.2222222222222222,
              "#7201a8"
             ],
             [
              0.3333333333333333,
              "#9c179e"
             ],
             [
              0.4444444444444444,
              "#bd3786"
             ],
             [
              0.5555555555555556,
              "#d8576b"
             ],
             [
              0.6666666666666666,
              "#ed7953"
             ],
             [
              0.7777777777777778,
              "#fb9f3a"
             ],
             [
              0.8888888888888888,
              "#fdca26"
             ],
             [
              1,
              "#f0f921"
             ]
            ],
            "type": "contour"
           }
          ],
          "contourcarpet": [
           {
            "colorbar": {
             "outlinewidth": 0,
             "ticks": ""
            },
            "type": "contourcarpet"
           }
          ],
          "heatmap": [
           {
            "colorbar": {
             "outlinewidth": 0,
             "ticks": ""
            },
            "colorscale": [
             [
              0,
              "#0d0887"
             ],
             [
              0.1111111111111111,
              "#46039f"
             ],
             [
              0.2222222222222222,
              "#7201a8"
             ],
             [
              0.3333333333333333,
              "#9c179e"
             ],
             [
              0.4444444444444444,
              "#bd3786"
             ],
             [
              0.5555555555555556,
              "#d8576b"
             ],
             [
              0.6666666666666666,
              "#ed7953"
             ],
             [
              0.7777777777777778,
              "#fb9f3a"
             ],
             [
              0.8888888888888888,
              "#fdca26"
             ],
             [
              1,
              "#f0f921"
             ]
            ],
            "type": "heatmap"
           }
          ],
          "heatmapgl": [
           {
            "colorbar": {
             "outlinewidth": 0,
             "ticks": ""
            },
            "colorscale": [
             [
              0,
              "#0d0887"
             ],
             [
              0.1111111111111111,
              "#46039f"
             ],
             [
              0.2222222222222222,
              "#7201a8"
             ],
             [
              0.3333333333333333,
              "#9c179e"
             ],
             [
              0.4444444444444444,
              "#bd3786"
             ],
             [
              0.5555555555555556,
              "#d8576b"
             ],
             [
              0.6666666666666666,
              "#ed7953"
             ],
             [
              0.7777777777777778,
              "#fb9f3a"
             ],
             [
              0.8888888888888888,
              "#fdca26"
             ],
             [
              1,
              "#f0f921"
             ]
            ],
            "type": "heatmapgl"
           }
          ],
          "histogram": [
           {
            "marker": {
             "pattern": {
              "fillmode": "overlay",
              "size": 10,
              "solidity": 0.2
             }
            },
            "type": "histogram"
           }
          ],
          "histogram2d": [
           {
            "colorbar": {
             "outlinewidth": 0,
             "ticks": ""
            },
            "colorscale": [
             [
              0,
              "#0d0887"
             ],
             [
              0.1111111111111111,
              "#46039f"
             ],
             [
              0.2222222222222222,
              "#7201a8"
             ],
             [
              0.3333333333333333,
              "#9c179e"
             ],
             [
              0.4444444444444444,
              "#bd3786"
             ],
             [
              0.5555555555555556,
              "#d8576b"
             ],
             [
              0.6666666666666666,
              "#ed7953"
             ],
             [
              0.7777777777777778,
              "#fb9f3a"
             ],
             [
              0.8888888888888888,
              "#fdca26"
             ],
             [
              1,
              "#f0f921"
             ]
            ],
            "type": "histogram2d"
           }
          ],
          "histogram2dcontour": [
           {
            "colorbar": {
             "outlinewidth": 0,
             "ticks": ""
            },
            "colorscale": [
             [
              0,
              "#0d0887"
             ],
             [
              0.1111111111111111,
              "#46039f"
             ],
             [
              0.2222222222222222,
              "#7201a8"
             ],
             [
              0.3333333333333333,
              "#9c179e"
             ],
             [
              0.4444444444444444,
              "#bd3786"
             ],
             [
              0.5555555555555556,
              "#d8576b"
             ],
             [
              0.6666666666666666,
              "#ed7953"
             ],
             [
              0.7777777777777778,
              "#fb9f3a"
             ],
             [
              0.8888888888888888,
              "#fdca26"
             ],
             [
              1,
              "#f0f921"
             ]
            ],
            "type": "histogram2dcontour"
           }
          ],
          "mesh3d": [
           {
            "colorbar": {
             "outlinewidth": 0,
             "ticks": ""
            },
            "type": "mesh3d"
           }
          ],
          "parcoords": [
           {
            "line": {
             "colorbar": {
              "outlinewidth": 0,
              "ticks": ""
             }
            },
            "type": "parcoords"
           }
          ],
          "pie": [
           {
            "automargin": true,
            "type": "pie"
           }
          ],
          "scatter": [
           {
            "fillpattern": {
             "fillmode": "overlay",
             "size": 10,
             "solidity": 0.2
            },
            "type": "scatter"
           }
          ],
          "scatter3d": [
           {
            "line": {
             "colorbar": {
              "outlinewidth": 0,
              "ticks": ""
             }
            },
            "marker": {
             "colorbar": {
              "outlinewidth": 0,
              "ticks": ""
             }
            },
            "type": "scatter3d"
           }
          ],
          "scattercarpet": [
           {
            "marker": {
             "colorbar": {
              "outlinewidth": 0,
              "ticks": ""
             }
            },
            "type": "scattercarpet"
           }
          ],
          "scattergeo": [
           {
            "marker": {
             "colorbar": {
              "outlinewidth": 0,
              "ticks": ""
             }
            },
            "type": "scattergeo"
           }
          ],
          "scattergl": [
           {
            "marker": {
             "colorbar": {
              "outlinewidth": 0,
              "ticks": ""
             }
            },
            "type": "scattergl"
           }
          ],
          "scattermapbox": [
           {
            "marker": {
             "colorbar": {
              "outlinewidth": 0,
              "ticks": ""
             }
            },
            "type": "scattermapbox"
           }
          ],
          "scatterpolar": [
           {
            "marker": {
             "colorbar": {
              "outlinewidth": 0,
              "ticks": ""
             }
            },
            "type": "scatterpolar"
           }
          ],
          "scatterpolargl": [
           {
            "marker": {
             "colorbar": {
              "outlinewidth": 0,
              "ticks": ""
             }
            },
            "type": "scatterpolargl"
           }
          ],
          "scatterternary": [
           {
            "marker": {
             "colorbar": {
              "outlinewidth": 0,
              "ticks": ""
             }
            },
            "type": "scatterternary"
           }
          ],
          "surface": [
           {
            "colorbar": {
             "outlinewidth": 0,
             "ticks": ""
            },
            "colorscale": [
             [
              0,
              "#0d0887"
             ],
             [
              0.1111111111111111,
              "#46039f"
             ],
             [
              0.2222222222222222,
              "#7201a8"
             ],
             [
              0.3333333333333333,
              "#9c179e"
             ],
             [
              0.4444444444444444,
              "#bd3786"
             ],
             [
              0.5555555555555556,
              "#d8576b"
             ],
             [
              0.6666666666666666,
              "#ed7953"
             ],
             [
              0.7777777777777778,
              "#fb9f3a"
             ],
             [
              0.8888888888888888,
              "#fdca26"
             ],
             [
              1,
              "#f0f921"
             ]
            ],
            "type": "surface"
           }
          ],
          "table": [
           {
            "cells": {
             "fill": {
              "color": "#EBF0F8"
             },
             "line": {
              "color": "white"
             }
            },
            "header": {
             "fill": {
              "color": "#C8D4E3"
             },
             "line": {
              "color": "white"
             }
            },
            "type": "table"
           }
          ]
         },
         "layout": {
          "annotationdefaults": {
           "arrowcolor": "#2a3f5f",
           "arrowhead": 0,
           "arrowwidth": 1
          },
          "autotypenumbers": "strict",
          "coloraxis": {
           "colorbar": {
            "outlinewidth": 0,
            "ticks": ""
           }
          },
          "colorscale": {
           "diverging": [
            [
             0,
             "#8e0152"
            ],
            [
             0.1,
             "#c51b7d"
            ],
            [
             0.2,
             "#de77ae"
            ],
            [
             0.3,
             "#f1b6da"
            ],
            [
             0.4,
             "#fde0ef"
            ],
            [
             0.5,
             "#f7f7f7"
            ],
            [
             0.6,
             "#e6f5d0"
            ],
            [
             0.7,
             "#b8e186"
            ],
            [
             0.8,
             "#7fbc41"
            ],
            [
             0.9,
             "#4d9221"
            ],
            [
             1,
             "#276419"
            ]
           ],
           "sequential": [
            [
             0,
             "#0d0887"
            ],
            [
             0.1111111111111111,
             "#46039f"
            ],
            [
             0.2222222222222222,
             "#7201a8"
            ],
            [
             0.3333333333333333,
             "#9c179e"
            ],
            [
             0.4444444444444444,
             "#bd3786"
            ],
            [
             0.5555555555555556,
             "#d8576b"
            ],
            [
             0.6666666666666666,
             "#ed7953"
            ],
            [
             0.7777777777777778,
             "#fb9f3a"
            ],
            [
             0.8888888888888888,
             "#fdca26"
            ],
            [
             1,
             "#f0f921"
            ]
           ],
           "sequentialminus": [
            [
             0,
             "#0d0887"
            ],
            [
             0.1111111111111111,
             "#46039f"
            ],
            [
             0.2222222222222222,
             "#7201a8"
            ],
            [
             0.3333333333333333,
             "#9c179e"
            ],
            [
             0.4444444444444444,
             "#bd3786"
            ],
            [
             0.5555555555555556,
             "#d8576b"
            ],
            [
             0.6666666666666666,
             "#ed7953"
            ],
            [
             0.7777777777777778,
             "#fb9f3a"
            ],
            [
             0.8888888888888888,
             "#fdca26"
            ],
            [
             1,
             "#f0f921"
            ]
           ]
          },
          "colorway": [
           "#636efa",
           "#EF553B",
           "#00cc96",
           "#ab63fa",
           "#FFA15A",
           "#19d3f3",
           "#FF6692",
           "#B6E880",
           "#FF97FF",
           "#FECB52"
          ],
          "font": {
           "color": "#2a3f5f"
          },
          "geo": {
           "bgcolor": "white",
           "lakecolor": "white",
           "landcolor": "#E5ECF6",
           "showlakes": true,
           "showland": true,
           "subunitcolor": "white"
          },
          "hoverlabel": {
           "align": "left"
          },
          "hovermode": "closest",
          "mapbox": {
           "style": "light"
          },
          "paper_bgcolor": "white",
          "plot_bgcolor": "#E5ECF6",
          "polar": {
           "angularaxis": {
            "gridcolor": "white",
            "linecolor": "white",
            "ticks": ""
           },
           "bgcolor": "#E5ECF6",
           "radialaxis": {
            "gridcolor": "white",
            "linecolor": "white",
            "ticks": ""
           }
          },
          "scene": {
           "xaxis": {
            "backgroundcolor": "#E5ECF6",
            "gridcolor": "white",
            "gridwidth": 2,
            "linecolor": "white",
            "showbackground": true,
            "ticks": "",
            "zerolinecolor": "white"
           },
           "yaxis": {
            "backgroundcolor": "#E5ECF6",
            "gridcolor": "white",
            "gridwidth": 2,
            "linecolor": "white",
            "showbackground": true,
            "ticks": "",
            "zerolinecolor": "white"
           },
           "zaxis": {
            "backgroundcolor": "#E5ECF6",
            "gridcolor": "white",
            "gridwidth": 2,
            "linecolor": "white",
            "showbackground": true,
            "ticks": "",
            "zerolinecolor": "white"
           }
          },
          "shapedefaults": {
           "line": {
            "color": "#2a3f5f"
           }
          },
          "ternary": {
           "aaxis": {
            "gridcolor": "white",
            "linecolor": "white",
            "ticks": ""
           },
           "baxis": {
            "gridcolor": "white",
            "linecolor": "white",
            "ticks": ""
           },
           "bgcolor": "#E5ECF6",
           "caxis": {
            "gridcolor": "white",
            "linecolor": "white",
            "ticks": ""
           }
          },
          "title": {
           "x": 0.05
          },
          "xaxis": {
           "automargin": true,
           "gridcolor": "white",
           "linecolor": "white",
           "ticks": "",
           "title": {
            "standoff": 15
           },
           "zerolinecolor": "white",
           "zerolinewidth": 2
          },
          "yaxis": {
           "automargin": true,
           "gridcolor": "white",
           "linecolor": "white",
           "ticks": "",
           "title": {
            "standoff": 15
           },
           "zerolinecolor": "white",
           "zerolinewidth": 2
          }
         }
        },
        "xaxis": {
         "anchor": "y",
         "autorange": true,
         "domain": [
          0,
          1
         ],
         "range": [
          "2019-05-08",
          "2020-03-01"
         ],
         "title": {
          "text": "date"
         },
         "type": "date"
        },
        "yaxis": {
         "anchor": "x",
         "autorange": true,
         "domain": [
          0,
          1
         ],
         "range": [
          -1213.1111111111113,
          36029.11111111111
         ],
         "title": {
          "text": "steps"
         },
         "type": "linear"
        }
       }
      },
      "image/png": "[encoded data removed]",
      "text/html": [
       "<div>                            <div id=\"857f4dfe-c775-4523-911d-662859fbdeb6\" class=\"plotly-graph-div\" style=\"height:525px; width:100%;\"></div>            <script type=\"text/javascript\">                require([\"plotly\"], function(Plotly) {                    window.PLOTLYENV=window.PLOTLYENV || {};                                    if (document.getElementById(\"857f4dfe-c775-4523-911d-662859fbdeb6\")) {                    Plotly.newPlot(                        \"857f4dfe-c775-4523-911d-662859fbdeb6\",                        [{\"hovertemplate\":\"date=%{x}<br>steps=%{y}<extra></extra>\",\"legendgroup\":\"\",\"line\":{\"color\":\"#636efa\",\"dash\":\"solid\"},\"marker\":{\"symbol\":\"circle\"},\"mode\":\"lines\",\"name\":\"\",\"orientation\":\"v\",\"showlegend\":false,\"x\":[\"2019-05-08\",\"2019-05-09\",\"2019-05-10\",\"2019-05-11\",\"2019-05-12\",\"2019-05-13\",\"2019-05-14\",\"2019-05-15\",\"2019-05-16\",\"2019-05-17\",\"2019-05-18\",\"2019-05-19\",\"2019-05-20\",\"2019-05-21\",\"2019-05-22\",\"2019-05-23\",\"2019-05-24\",\"2019-05-25\",\"2019-05-26\",\"2019-05-27\",\"2019-05-28\",\"2019-05-29\",\"2019-05-31\",\"2019-06-01\",\"2019-06-03\",\"2019-06-04\",\"2019-06-05\",\"2019-06-06\",\"2019-06-07\",\"2019-06-08\",\"2019-06-09\",\"2019-06-10\",\"2019-06-11\",\"2019-06-12\",\"2019-06-13\",\"2019-06-14\",\"2019-06-15\",\"2019-06-16\",\"2019-06-18\",\"2019-06-19\",\"2019-06-20\",\"2019-06-21\",\"2019-06-22\",\"2019-06-23\",\"2019-06-24\",\"2019-06-25\",\"2019-06-26\",\"2019-06-27\",\"2019-06-28\",\"2019-06-29\",\"2019-06-30\",\"2019-07-01\",\"2019-07-02\",\"2019-07-03\",\"2019-07-04\",\"2019-07-05\",\"2019-07-06\",\"2019-07-07\",\"2019-07-08\",\"2019-07-09\",\"2019-07-10\",\"2019-07-11\",\"2019-07-12\",\"2019-07-13\",\"2019-07-14\",\"2019-07-15\",\"2019-07-16\",\"2019-07-17\",\"2019-07-18\",\"2019-07-19\",\"2019-07-20\",\"2019-07-21\",\"2019-07-22\",\"2019-07-23\",\"2019-07-24\",\"2019-07-25\",\"2019-07-26\",\"2019-07-27\",\"2019-07-28\",\"2019-07-29\",\"2019-07-31\",\"2019-08-01\",\"2019-08-02\",\"2019-08-03\",\"2019-08-04\",\"2019-08-05\",\"2019-08-06\",\"2019-08-07\",\"2019-08-08\",\"2019-08-09\",\"2019-08-10\",\"2019-08-11\",\"2019-08-12\",\"2019-08-13\",\"2019-08-14\",\"2019-08-15\",\"2019-08-16\",\"2019-08-17\",\"2019-08-18\",\"2019-08-19\",\"2019-08-20\",\"2019-08-21\",\"2019-08-22\",\"2019-08-23\",\"2019-08-24\",\"2019-08-25\",\"2019-08-26\",\"2019-08-27\",\"2019-08-28\",\"2019-08-29\",\"2019-08-30\",\"2019-08-31\",\"2019-09-01\",\"2019-09-02\",\"2019-09-03\",\"2019-09-04\",\"2019-09-05\",\"2019-09-06\",\"2019-09-07\",\"2019-09-08\",\"2019-09-09\",\"2019-09-10\",\"2019-09-11\",\"2019-09-12\",\"2019-09-13\",\"2019-09-14\",\"2019-09-15\",\"2019-09-16\",\"2019-09-17\",\"2019-09-18\",\"2019-09-19\",\"2019-09-20\",\"2019-09-21\",\"2019-09-22\",\"2019-09-23\",\"2019-09-24\",\"2019-09-25\",\"2019-09-26\",\"2019-09-27\",\"2019-09-28\",\"2019-09-29\",\"2019-09-30\",\"2019-10-01\",\"2019-10-02\",\"2019-10-03\",\"2019-10-04\",\"2019-10-05\",\"2019-10-06\",\"2019-10-07\",\"2019-10-08\",\"2019-10-09\",\"2019-10-10\",\"2019-10-11\",\"2019-10-12\",\"2019-10-13\",\"2019-10-14\",\"2019-10-15\",\"2019-10-16\",\"2019-10-17\",\"2019-10-18\",\"2019-10-19\",\"2019-10-20\",\"2019-10-21\",\"2019-10-22\",\"2019-10-23\",\"2019-10-24\",\"2019-10-25\",\"2019-10-26\",\"2019-10-27\",\"2019-10-28\",\"2019-10-29\",\"2019-10-30\",\"2019-10-31\",\"2019-11-01\",\"2019-11-02\",\"2019-11-03\",\"2019-11-04\",\"2019-11-05\",\"2019-11-06\",\"2019-11-07\",\"2019-11-08\",\"2019-11-09\",\"2019-11-10\",\"2019-11-11\",\"2019-11-12\",\"2019-11-13\",\"2019-11-14\",\"2019-11-15\",\"2019-11-16\",\"2019-11-17\",\"2019-11-18\",\"2019-11-19\",\"2019-11-20\",\"2019-11-21\",\"2019-11-22\",\"2019-11-23\",\"2019-11-24\",\"2019-11-25\",\"2019-11-26\",\"2019-11-27\",\"2019-11-28\",\"2019-11-29\",\"2019-11-30\",\"2019-12-01\",\"2019-12-02\",\"2019-12-03\",\"2019-12-04\",\"2019-12-05\",\"2019-12-07\",\"2019-12-08\",\"2019-12-09\",\"2019-12-10\",\"2019-12-11\",\"2019-12-12\",\"2019-12-13\",\"2019-12-14\",\"2019-12-15\",\"2019-12-16\",\"2019-12-17\",\"2019-12-18\",\"2019-12-19\",\"2019-12-20\",\"2019-12-21\",\"2019-12-22\",\"2019-12-23\",\"2019-12-24\",\"2019-12-25\",\"2019-12-26\",\"2019-12-27\",\"2019-12-28\",\"2019-12-29\",\"2019-12-30\",\"2019-12-31\",\"2020-01-01\",\"2020-01-02\",\"2020-01-03\",\"2020-01-04\",\"2020-01-05\",\"2020-01-06\",\"2020-01-07\",\"2020-01-08\",\"2020-01-09\",\"2020-01-10\",\"2020-01-11\",\"2020-01-12\",\"2020-01-13\",\"2020-01-14\",\"2020-01-15\",\"2020-01-16\",\"2020-01-17\",\"2020-01-18\",\"2020-01-19\",\"2020-01-20\",\"2020-01-21\",\"2020-01-22\",\"2020-01-23\",\"2020-01-24\",\"2020-01-25\",\"2020-01-26\",\"2020-01-27\",\"2020-01-28\",\"2020-01-29\",\"2020-01-30\",\"2020-01-31\",\"2020-02-01\",\"2020-02-02\",\"2020-02-03\",\"2020-02-04\",\"2020-02-05\",\"2020-02-06\",\"2020-02-07\",\"2020-02-08\",\"2020-02-09\",\"2020-02-10\",\"2020-02-11\",\"2020-02-12\",\"2020-02-13\",\"2020-02-14\",\"2020-02-15\",\"2020-02-16\",\"2020-02-17\",\"2020-02-18\",\"2020-02-19\",\"2020-02-20\",\"2020-02-21\",\"2020-02-22\",\"2020-02-23\",\"2020-02-24\",\"2020-02-25\",\"2020-02-26\",\"2020-02-27\",\"2020-02-28\",\"2020-02-29\",\"2020-03-01\"],\"xaxis\":\"x\",\"y\":[1493,5289,9988,8385,1011,1208,7709,3193,4810,4631,1048,2798,936,806,4049,5415,9306,10616,1387,1549,4781,3156,21298,1497,881,1278,782,5291,988,8233,1375,1464,5975,17128,1095,12051,8639,1360,975,8779,806,738,9221,1874,5903,2193,7637,925,1301,6252,2127,649,7679,836,8587,6819,12494,1410,9256,1723,963,13353,4289,1541,5519,3758,1134,2633,2650,10308,975,9413,1328,7401,841,13010,741,11011,820,8601,10804,818,9538,907,11159,1039,8983,1962,841,9766,734,11032,867,7898,750,8208,791,10230,867,10661,1036,8458,890,8128,1040,7455,1126,8836,1807,9644,6776,3636,10042,3222,4854,1698,9421,3164,9544,1334,9622,928,8324,839,6200,1141,7488,1905,10190,1188,3046,6249,1945,11532,12963,1094,14012,19780,15684,17939,14651,4552,11356,13458,5017,1286,3778,6210,15652,15751,12667,6583,8358,1573,9000,7812,13950,866,9297,11921,1220,12993,11085,8384,1141,15653,10463,3173,7403,7550,9699,9227,1754,5113,13183,4971,8470,13149,10458,12135,12937,3416,9802,10102,12329,761,7868,12285,12644,8219,10154,11348,11186,1447,6184,3370,1296,9614,8781,5579,2055,4553,1213,827,10997,16250,6265,20101,1048,4245,14232,17304,5480,19270,8828,18671,26643,6714,20326,9591,21592,18533,20030,10892,17377,19168,1776,13496,8002,12039,2979,2169,12926,1524,23590,9927,3428,1720,7673,27101,11548,22963,12757,7340,1165,4730,20866,3207,22104,12747,13935,34167,7746,15314,8473,21073,12122,5692,13732,6756,20629,1873,1593,13903,681,11158,7523,20723,3967,22910,7874,6817,1442,4734,26642,697,12625,7925,9635,4378,9568,14069,7150,14151,8916,1021,5606,1158,13972,1026,1329,6618,11330,5623],\"yaxis\":\"y\",\"type\":\"scatter\"}],                        {\"template\":{\"data\":{\"histogram2dcontour\":[{\"type\":\"histogram2dcontour\",\"colorbar\":{\"outlinewidth\":0,\"ticks\":\"\"},\"colorscale\":[[0.0,\"#0d0887\"],[0.1111111111111111,\"#46039f\"],[0.2222222222222222,\"#7201a8\"],[0.3333333333333333,\"#9c179e\"],[0.4444444444444444,\"#bd3786\"],[0.5555555555555556,\"#d8576b\"],[0.6666666666666666,\"#ed7953\"],[0.7777777777777778,\"#fb9f3a\"],[0.8888888888888888,\"#fdca26\"],[1.0,\"#f0f921\"]]}],\"choropleth\":[{\"type\":\"choropleth\",\"colorbar\":{\"outlinewidth\":0,\"ticks\":\"\"}}],\"histogram2d\":[{\"type\":\"histogram2d\",\"colorbar\":{\"outlinewidth\":0,\"ticks\":\"\"},\"colorscale\":[[0.0,\"#0d0887\"],[0.1111111111111111,\"#46039f\"],[0.2222222222222222,\"#7201a8\"],[0.3333333333333333,\"#9c179e\"],[0.4444444444444444,\"#bd3786\"],[0.5555555555555556,\"#d8576b\"],[0.6666666666666666,\"#ed7953\"],[0.7777777777777778,\"#fb9f3a\"],[0.8888888888888888,\"#fdca26\"],[1.0,\"#f0f921\"]]}],\"heatmap\":[{\"type\":\"heatmap\",\"colorbar\":{\"outlinewidth\":0,\"ticks\":\"\"},\"colorscale\":[[0.0,\"#0d0887\"],[0.1111111111111111,\"#46039f\"],[0.2222222222222222,\"#7201a8\"],[0.3333333333333333,\"#9c179e\"],[0.4444444444444444,\"#bd3786\"],[0.5555555555555556,\"#d8576b\"],[0.6666666666666666,\"#ed7953\"],[0.7777777777777778,\"#fb9f3a\"],[0.8888888888888888,\"#fdca26\"],[1.0,\"#f0f921\"]]}],\"heatmapgl\":[{\"type\":\"heatmapgl\",\"colorbar\":{\"outlinewidth\":0,\"ticks\":\"\"},\"colorscale\":[[0.0,\"#0d0887\"],[0.1111111111111111,\"#46039f\"],[0.2222222222222222,\"#7201a8\"],[0.3333333333333333,\"#9c179e\"],[0.4444444444444444,\"#bd3786\"],[0.5555555555555556,\"#d8576b\"],[0.6666666666666666,\"#ed7953\"],[0.7777777777777778,\"#fb9f3a\"],[0.8888888888888888,\"#fdca26\"],[1.0,\"#f0f921\"]]}],\"contourcarpet\":[{\"type\":\"contourcarpet\",\"colorbar\":{\"outlinewidth\":0,\"ticks\":\"\"}}],\"contour\":[{\"type\":\"contour\",\"colorbar\":{\"outlinewidth\":0,\"ticks\":\"\"},\"colorscale\":[[0.0,\"#0d0887\"],[0.1111111111111111,\"#46039f\"],[0.2222222222222222,\"#7201a8\"],[0.3333333333333333,\"#9c179e\"],[0.4444444444444444,\"#bd3786\"],[0.5555555555555556,\"#d8576b\"],[0.6666666666666666,\"#ed7953\"],[0.7777777777777778,\"#fb9f3a\"],[0.8888888888888888,\"#fdca26\"],[1.0,\"#f0f921\"]]}],\"surface\":[{\"type\":\"surface\",\"colorbar\":{\"outlinewidth\":0,\"ticks\":\"\"},\"colorscale\":[[0.0,\"#0d0887\"],[0.1111111111111111,\"#46039f\"],[0.2222222222222222,\"#7201a8\"],[0.3333333333333333,\"#9c179e\"],[0.4444444444444444,\"#bd3786\"],[0.5555555555555556,\"#d8576b\"],[0.6666666666666666,\"#ed7953\"],[0.7777777777777778,\"#fb9f3a\"],[0.8888888888888888,\"#fdca26\"],[1.0,\"#f0f921\"]]}],\"mesh3d\":[{\"type\":\"mesh3d\",\"colorbar\":{\"outlinewidth\":0,\"ticks\":\"\"}}],\"scatter\":[{\"fillpattern\":{\"fillmode\":\"overlay\",\"size\":10,\"solidity\":0.2},\"type\":\"scatter\"}],\"parcoords\":[{\"type\":\"parcoords\",\"line\":{\"colorbar\":{\"outlinewidth\":0,\"ticks\":\"\"}}}],\"scatterpolargl\":[{\"type\":\"scatterpolargl\",\"marker\":{\"colorbar\":{\"outlinewidth\":0,\"ticks\":\"\"}}}],\"bar\":[{\"error_x\":{\"color\":\"#2a3f5f\"},\"error_y\":{\"color\":\"#2a3f5f\"},\"marker\":{\"line\":{\"color\":\"#E5ECF6\",\"width\":0.5},\"pattern\":{\"fillmode\":\"overlay\",\"size\":10,\"solidity\":0.2}},\"type\":\"bar\"}],\"scattergeo\":[{\"type\":\"scattergeo\",\"marker\":{\"colorbar\":{\"outlinewidth\":0,\"ticks\":\"\"}}}],\"scatterpolar\":[{\"type\":\"scatterpolar\",\"marker\":{\"colorbar\":{\"outlinewidth\":0,\"ticks\":\"\"}}}],\"histogram\":[{\"marker\":{\"pattern\":{\"fillmode\":\"overlay\",\"size\":10,\"solidity\":0.2}},\"type\":\"histogram\"}],\"scattergl\":[{\"type\":\"scattergl\",\"marker\":{\"colorbar\":{\"outlinewidth\":0,\"ticks\":\"\"}}}],\"scatter3d\":[{\"type\":\"scatter3d\",\"line\":{\"colorbar\":{\"outlinewidth\":0,\"ticks\":\"\"}},\"marker\":{\"colorbar\":{\"outlinewidth\":0,\"ticks\":\"\"}}}],\"scattermapbox\":[{\"type\":\"scattermapbox\",\"marker\":{\"colorbar\":{\"outlinewidth\":0,\"ticks\":\"\"}}}],\"scatterternary\":[{\"type\":\"scatterternary\",\"marker\":{\"colorbar\":{\"outlinewidth\":0,\"ticks\":\"\"}}}],\"scattercarpet\":[{\"type\":\"scattercarpet\",\"marker\":{\"colorbar\":{\"outlinewidth\":0,\"ticks\":\"\"}}}],\"carpet\":[{\"aaxis\":{\"endlinecolor\":\"#2a3f5f\",\"gridcolor\":\"white\",\"linecolor\":\"white\",\"minorgridcolor\":\"white\",\"startlinecolor\":\"#2a3f5f\"},\"baxis\":{\"endlinecolor\":\"#2a3f5f\",\"gridcolor\":\"white\",\"linecolor\":\"white\",\"minorgridcolor\":\"white\",\"startlinecolor\":\"#2a3f5f\"},\"type\":\"carpet\"}],\"table\":[{\"cells\":{\"fill\":{\"color\":\"#EBF0F8\"},\"line\":{\"color\":\"white\"}},\"header\":{\"fill\":{\"color\":\"#C8D4E3\"},\"line\":{\"color\":\"white\"}},\"type\":\"table\"}],\"barpolar\":[{\"marker\":{\"line\":{\"color\":\"#E5ECF6\",\"width\":0.5},\"pattern\":{\"fillmode\":\"overlay\",\"size\":10,\"solidity\":0.2}},\"type\":\"barpolar\"}],\"pie\":[{\"automargin\":true,\"type\":\"pie\"}]},\"layout\":{\"autotypenumbers\":\"strict\",\"colorway\":[\"#636efa\",\"#EF553B\",\"#00cc96\",\"#ab63fa\",\"#FFA15A\",\"#19d3f3\",\"#FF6692\",\"#B6E880\",\"#FF97FF\",\"#FECB52\"],\"font\":{\"color\":\"#2a3f5f\"},\"hovermode\":\"closest\",\"hoverlabel\":{\"align\":\"left\"},\"paper_bgcolor\":\"white\",\"plot_bgcolor\":\"#E5ECF6\",\"polar\":{\"bgcolor\":\"#E5ECF6\",\"angularaxis\":{\"gridcolor\":\"white\",\"linecolor\":\"white\",\"ticks\":\"\"},\"radialaxis\":{\"gridcolor\":\"white\",\"linecolor\":\"white\",\"ticks\":\"\"}},\"ternary\":{\"bgcolor\":\"#E5ECF6\",\"aaxis\":{\"gridcolor\":\"white\",\"linecolor\":\"white\",\"ticks\":\"\"},\"baxis\":{\"gridcolor\":\"white\",\"linecolor\":\"white\",\"ticks\":\"\"},\"caxis\":{\"gridcolor\":\"white\",\"linecolor\":\"white\",\"ticks\":\"\"}},\"coloraxis\":{\"colorbar\":{\"outlinewidth\":0,\"ticks\":\"\"}},\"colorscale\":{\"sequential\":[[0.0,\"#0d0887\"],[0.1111111111111111,\"#46039f\"],[0.2222222222222222,\"#7201a8\"],[0.3333333333333333,\"#9c179e\"],[0.4444444444444444,\"#bd3786\"],[0.5555555555555556,\"#d8576b\"],[0.6666666666666666,\"#ed7953\"],[0.7777777777777778,\"#fb9f3a\"],[0.8888888888888888,\"#fdca26\"],[1.0,\"#f0f921\"]],\"sequentialminus\":[[0.0,\"#0d0887\"],[0.1111111111111111,\"#46039f\"],[0.2222222222222222,\"#7201a8\"],[0.3333333333333333,\"#9c179e\"],[0.4444444444444444,\"#bd3786\"],[0.5555555555555556,\"#d8576b\"],[0.6666666666666666,\"#ed7953\"],[0.7777777777777778,\"#fb9f3a\"],[0.8888888888888888,\"#fdca26\"],[1.0,\"#f0f921\"]],\"diverging\":[[0,\"#8e0152\"],[0.1,\"#c51b7d\"],[0.2,\"#de77ae\"],[0.3,\"#f1b6da\"],[0.4,\"#fde0ef\"],[0.5,\"#f7f7f7\"],[0.6,\"#e6f5d0\"],[0.7,\"#b8e186\"],[0.8,\"#7fbc41\"],[0.9,\"#4d9221\"],[1,\"#276419\"]]},\"xaxis\":{\"gridcolor\":\"white\",\"linecolor\":\"white\",\"ticks\":\"\",\"title\":{\"standoff\":15},\"zerolinecolor\":\"white\",\"automargin\":true,\"zerolinewidth\":2},\"yaxis\":{\"gridcolor\":\"white\",\"linecolor\":\"white\",\"ticks\":\"\",\"title\":{\"standoff\":15},\"zerolinecolor\":\"white\",\"automargin\":true,\"zerolinewidth\":2},\"scene\":{\"xaxis\":{\"backgroundcolor\":\"#E5ECF6\",\"gridcolor\":\"white\",\"linecolor\":\"white\",\"showbackground\":true,\"ticks\":\"\",\"zerolinecolor\":\"white\",\"gridwidth\":2},\"yaxis\":{\"backgroundcolor\":\"#E5ECF6\",\"gridcolor\":\"white\",\"linecolor\":\"white\",\"showbackground\":true,\"ticks\":\"\",\"zerolinecolor\":\"white\",\"gridwidth\":2},\"zaxis\":{\"backgroundcolor\":\"#E5ECF6\",\"gridcolor\":\"white\",\"linecolor\":\"white\",\"showbackground\":true,\"ticks\":\"\",\"zerolinecolor\":\"white\",\"gridwidth\":2}},\"shapedefaults\":{\"line\":{\"color\":\"#2a3f5f\"}},\"annotationdefaults\":{\"arrowcolor\":\"#2a3f5f\",\"arrowhead\":0,\"arrowwidth\":1},\"geo\":{\"bgcolor\":\"white\",\"landcolor\":\"#E5ECF6\",\"subunitcolor\":\"white\",\"showland\":true,\"showlakes\":true,\"lakecolor\":\"white\"},\"title\":{\"x\":0.05},\"mapbox\":{\"style\":\"light\"}}},\"xaxis\":{\"anchor\":\"y\",\"domain\":[0.0,1.0],\"title\":{\"text\":\"date\"}},\"yaxis\":{\"anchor\":\"x\",\"domain\":[0.0,1.0],\"title\":{\"text\":\"steps\"}},\"legend\":{\"tracegroupgap\":0},\"margin\":{\"t\":60}},                        {\"responsive\": true}                    ).then(function(){\n",
       "                            \n",
       "var gd = document.getElementById('857f4dfe-c775-4523-911d-662859fbdeb6');\n",
       "var x = new MutationObserver(function (mutations, observer) {{\n",
       "        var display = window.getComputedStyle(gd).display;\n",
       "        if (!display || display === 'none') {{\n",
       "            console.log([gd, 'removed!']);\n",
       "            Plotly.purge(gd);\n",
       "            observer.disconnect();\n",
       "        }}\n",
       "}});\n",
       "\n",
       "// Listen for the removal of the full notebook cells\n",
       "var notebookContainer = gd.closest('#notebook-container');\n",
       "if (notebookContainer) {{\n",
       "    x.observe(notebookContainer, {childList: true});\n",
       "}}\n",
       "\n",
       "// Listen for the clearing of the current output cell\n",
       "var outputEl = gd.closest('.output');\n",
       "if (outputEl) {{\n",
       "    x.observe(outputEl, {childList: true});\n",
       "}}\n",
       "\n",
       "                        })                };                });            </script>        </div>"
      ]
     },
     "metadata": {},
     "output_type": "display_data"
    }
   ],
   "source": [
    "fig = px.line(ts, x='date', y=\"steps\")\n",
    "fig.show()"
   ]
  },
  {
   "cell_type": "markdown",
   "id": "ddd26e58-113f-46bf-ad9e-5c58fa0e7f02",
   "metadata": {},
   "source": [
    "Check for duplicate dates\n",
    "---"
   ]
  },
  {
   "cell_type": "code",
   "execution_count": 102,
   "id": "949e9bb3-1632-4503-89fb-5104dbb9d39e",
   "metadata": {
    "execution": {
     "iopub.execute_input": "2023-03-29T08:40:54.669216Z",
     "iopub.status.busy": "2023-03-29T08:40:54.668862Z",
     "iopub.status.idle": "2023-03-29T08:40:54.676553Z",
     "shell.execute_reply": "2023-03-29T08:40:54.675985Z",
     "shell.execute_reply.started": "2023-03-29T08:40:54.669192Z"
    },
    "tags": []
   },
   "outputs": [
    {
     "data": {
      "text/html": [
       "<div>\n",
       "<style scoped>\n",
       "    .dataframe tbody tr th:only-of-type {\n",
       "        vertical-align: middle;\n",
       "    }\n",
       "\n",
       "    .dataframe tbody tr th {\n",
       "        vertical-align: top;\n",
       "    }\n",
       "\n",
       "    .dataframe thead th {\n",
       "        text-align: right;\n",
       "    }\n",
       "</style>\n",
       "<table border=\"1\" class=\"dataframe\">\n",
       "  <thead>\n",
       "    <tr style=\"text-align: right;\">\n",
       "      <th></th>\n",
       "      <th>date</th>\n",
       "      <th>steps</th>\n",
       "    </tr>\n",
       "  </thead>\n",
       "  <tbody>\n",
       "  </tbody>\n",
       "</table>\n",
       "</div>"
      ],
      "text/plain": [
       "Empty DataFrame\n",
       "Columns: [date, steps]\n",
       "Index: []"
      ]
     },
     "execution_count": 102,
     "metadata": {},
     "output_type": "execute_result"
    }
   ],
   "source": [
    "ids = ts['date']\n",
    "ts[ids.isin(ids[ids.duplicated()])].sort_values(\"date\")"
   ]
  },
  {
   "cell_type": "markdown",
   "id": "7385e328-4e0f-40c1-b81e-8d5da2870e29",
   "metadata": {},
   "source": [
    "NAs in Time Series\n",
    "---\n",
    "Silent Missings\n",
    "<br>\n",
    "Most of the times, when dealing with TS the missing values are silent/hidden. In our example, if the number of steps for a given day is missing, the whole observation (row) is missing, and not only the value itself: we have a TS with daily step-count collected via a wearable device (e.g., FitBit). If on day x the device was switched off, we have a missing observation and the corresponding observation is not present in the TS. Therefore, before proceeding, we need to check if we have hidden missing observations.\""
   ]
  },
  {
   "cell_type": "code",
   "execution_count": 103,
   "id": "bea3d5ab-6d25-4f3f-8845-d2c60722f63a",
   "metadata": {
    "execution": {
     "iopub.execute_input": "2023-03-29T08:40:56.115682Z",
     "iopub.status.busy": "2023-03-29T08:40:56.115335Z",
     "iopub.status.idle": "2023-03-29T08:40:56.121444Z",
     "shell.execute_reply": "2023-03-29T08:40:56.120676Z",
     "shell.execute_reply.started": "2023-03-29T08:40:56.115659Z"
    },
    "tags": []
   },
   "outputs": [],
   "source": [
    "ts_na = ts.sort_values(\"date\", ascending = True)\n",
    "ts_na[\"diff_date\"] = pd.to_datetime(ts_na.date).diff().dt.days"
   ]
  },
  {
   "cell_type": "code",
   "execution_count": 104,
   "id": "c759b895-aa11-41d9-978f-9734d7b0d06b",
   "metadata": {
    "execution": {
     "iopub.execute_input": "2023-03-29T08:40:56.668602Z",
     "iopub.status.busy": "2023-03-29T08:40:56.668257Z",
     "iopub.status.idle": "2023-03-29T08:40:56.678166Z",
     "shell.execute_reply": "2023-03-29T08:40:56.677591Z",
     "shell.execute_reply.started": "2023-03-29T08:40:56.668580Z"
    },
    "tags": []
   },
   "outputs": [
    {
     "data": {
      "text/html": [
       "<div>\n",
       "<style scoped>\n",
       "    .dataframe tbody tr th:only-of-type {\n",
       "        vertical-align: middle;\n",
       "    }\n",
       "\n",
       "    .dataframe tbody tr th {\n",
       "        vertical-align: top;\n",
       "    }\n",
       "\n",
       "    .dataframe thead th {\n",
       "        text-align: right;\n",
       "    }\n",
       "</style>\n",
       "<table border=\"1\" class=\"dataframe\">\n",
       "  <thead>\n",
       "    <tr style=\"text-align: right;\">\n",
       "      <th></th>\n",
       "      <th>date</th>\n",
       "      <th>steps</th>\n",
       "      <th>diff_date</th>\n",
       "    </tr>\n",
       "  </thead>\n",
       "  <tbody>\n",
       "    <tr>\n",
       "      <th>0</th>\n",
       "      <td>2019-05-08</td>\n",
       "      <td>1493</td>\n",
       "      <td>NaN</td>\n",
       "    </tr>\n",
       "    <tr>\n",
       "      <th>1</th>\n",
       "      <td>2019-05-09</td>\n",
       "      <td>5289</td>\n",
       "      <td>1.0</td>\n",
       "    </tr>\n",
       "    <tr>\n",
       "      <th>2</th>\n",
       "      <td>2019-05-10</td>\n",
       "      <td>9988</td>\n",
       "      <td>1.0</td>\n",
       "    </tr>\n",
       "    <tr>\n",
       "      <th>3</th>\n",
       "      <td>2019-05-11</td>\n",
       "      <td>8385</td>\n",
       "      <td>1.0</td>\n",
       "    </tr>\n",
       "    <tr>\n",
       "      <th>4</th>\n",
       "      <td>2019-05-12</td>\n",
       "      <td>1011</td>\n",
       "      <td>1.0</td>\n",
       "    </tr>\n",
       "    <tr>\n",
       "      <th>...</th>\n",
       "      <td>...</td>\n",
       "      <td>...</td>\n",
       "      <td>...</td>\n",
       "    </tr>\n",
       "    <tr>\n",
       "      <th>289</th>\n",
       "      <td>2020-02-26</td>\n",
       "      <td>1026</td>\n",
       "      <td>1.0</td>\n",
       "    </tr>\n",
       "    <tr>\n",
       "      <th>290</th>\n",
       "      <td>2020-02-27</td>\n",
       "      <td>1329</td>\n",
       "      <td>1.0</td>\n",
       "    </tr>\n",
       "    <tr>\n",
       "      <th>291</th>\n",
       "      <td>2020-02-28</td>\n",
       "      <td>6618</td>\n",
       "      <td>1.0</td>\n",
       "    </tr>\n",
       "    <tr>\n",
       "      <th>292</th>\n",
       "      <td>2020-02-29</td>\n",
       "      <td>11330</td>\n",
       "      <td>1.0</td>\n",
       "    </tr>\n",
       "    <tr>\n",
       "      <th>293</th>\n",
       "      <td>2020-03-01</td>\n",
       "      <td>5623</td>\n",
       "      <td>1.0</td>\n",
       "    </tr>\n",
       "  </tbody>\n",
       "</table>\n",
       "<p>294 rows × 3 columns</p>\n",
       "</div>"
      ],
      "text/plain": [
       "           date  steps  diff_date\n",
       "0    2019-05-08   1493        NaN\n",
       "1    2019-05-09   5289        1.0\n",
       "2    2019-05-10   9988        1.0\n",
       "3    2019-05-11   8385        1.0\n",
       "4    2019-05-12   1011        1.0\n",
       "..          ...    ...        ...\n",
       "289  2020-02-26   1026        1.0\n",
       "290  2020-02-27   1329        1.0\n",
       "291  2020-02-28   6618        1.0\n",
       "292  2020-02-29  11330        1.0\n",
       "293  2020-03-01   5623        1.0\n",
       "\n",
       "[294 rows x 3 columns]"
      ]
     },
     "execution_count": 104,
     "metadata": {},
     "output_type": "execute_result"
    }
   ],
   "source": [
    "ts_na"
   ]
  },
  {
   "cell_type": "code",
   "execution_count": 105,
   "id": "c88e8809-c4ec-40b7-9a85-6f05156d2657",
   "metadata": {
    "execution": {
     "iopub.execute_input": "2023-03-29T08:41:00.167097Z",
     "iopub.status.busy": "2023-03-29T08:41:00.166753Z",
     "iopub.status.idle": "2023-03-29T08:41:00.175139Z",
     "shell.execute_reply": "2023-03-29T08:41:00.174423Z",
     "shell.execute_reply.started": "2023-03-29T08:41:00.167073Z"
    },
    "tags": []
   },
   "outputs": [
    {
     "data": {
      "text/html": [
       "<div>\n",
       "<style scoped>\n",
       "    .dataframe tbody tr th:only-of-type {\n",
       "        vertical-align: middle;\n",
       "    }\n",
       "\n",
       "    .dataframe tbody tr th {\n",
       "        vertical-align: top;\n",
       "    }\n",
       "\n",
       "    .dataframe thead th {\n",
       "        text-align: right;\n",
       "    }\n",
       "</style>\n",
       "<table border=\"1\" class=\"dataframe\">\n",
       "  <thead>\n",
       "    <tr style=\"text-align: right;\">\n",
       "      <th></th>\n",
       "      <th>date</th>\n",
       "      <th>steps</th>\n",
       "      <th>diff_date</th>\n",
       "    </tr>\n",
       "  </thead>\n",
       "  <tbody>\n",
       "    <tr>\n",
       "      <th>22</th>\n",
       "      <td>2019-05-31</td>\n",
       "      <td>21298</td>\n",
       "      <td>2.0</td>\n",
       "    </tr>\n",
       "    <tr>\n",
       "      <th>24</th>\n",
       "      <td>2019-06-03</td>\n",
       "      <td>881</td>\n",
       "      <td>2.0</td>\n",
       "    </tr>\n",
       "    <tr>\n",
       "      <th>38</th>\n",
       "      <td>2019-06-18</td>\n",
       "      <td>975</td>\n",
       "      <td>2.0</td>\n",
       "    </tr>\n",
       "    <tr>\n",
       "      <th>80</th>\n",
       "      <td>2019-07-31</td>\n",
       "      <td>10804</td>\n",
       "      <td>2.0</td>\n",
       "    </tr>\n",
       "    <tr>\n",
       "      <th>208</th>\n",
       "      <td>2019-12-07</td>\n",
       "      <td>1048</td>\n",
       "      <td>2.0</td>\n",
       "    </tr>\n",
       "  </tbody>\n",
       "</table>\n",
       "</div>"
      ],
      "text/plain": [
       "           date  steps  diff_date\n",
       "22   2019-05-31  21298        2.0\n",
       "24   2019-06-03    881        2.0\n",
       "38   2019-06-18    975        2.0\n",
       "80   2019-07-31  10804        2.0\n",
       "208  2019-12-07   1048        2.0"
      ]
     },
     "execution_count": 105,
     "metadata": {},
     "output_type": "execute_result"
    }
   ],
   "source": [
    "# find rows where date differece is more than 1 day\n",
    "ts_na[ts_na.diff_date>1]"
   ]
  },
  {
   "cell_type": "markdown",
   "id": "9e2f026e-6060-4717-b71a-966355ea07a1",
   "metadata": {},
   "source": [
    "Create the missing dates\n",
    "---"
   ]
  },
  {
   "cell_type": "code",
   "execution_count": 128,
   "id": "c5af5761-5aa0-43ad-9a9f-3fa994c0b8d8",
   "metadata": {
    "execution": {
     "iopub.execute_input": "2023-03-29T08:49:34.672290Z",
     "iopub.status.busy": "2023-03-29T08:49:34.671915Z",
     "iopub.status.idle": "2023-03-29T08:49:34.675860Z",
     "shell.execute_reply": "2023-03-29T08:49:34.675334Z",
     "shell.execute_reply.started": "2023-03-29T08:49:34.672262Z"
    },
    "tags": []
   },
   "outputs": [],
   "source": [
    "#Step 1: create a date range, preferably using the min date and max date as the limits\n",
    "new_date_range = pd.date_range(start=ts_min, end=ts_max, freq=\"D\")"
   ]
  },
  {
   "cell_type": "code",
   "execution_count": 130,
   "id": "c0984c44-5ab3-4aa6-bce4-74bf4462b7f1",
   "metadata": {
    "execution": {
     "iopub.execute_input": "2023-03-29T08:50:33.669650Z",
     "iopub.status.busy": "2023-03-29T08:50:33.669278Z",
     "iopub.status.idle": "2023-03-29T08:50:33.674953Z",
     "shell.execute_reply": "2023-03-29T08:50:33.674145Z",
     "shell.execute_reply.started": "2023-03-29T08:50:33.669624Z"
    },
    "tags": []
   },
   "outputs": [
    {
     "data": {
      "text/plain": [
       "DatetimeIndex(['2019-05-08', '2019-05-09', '2019-05-10', '2019-05-11',\n",
       "               '2019-05-12', '2019-05-13', '2019-05-14', '2019-05-15',\n",
       "               '2019-05-16', '2019-05-17',\n",
       "               ...\n",
       "               '2020-02-21', '2020-02-22', '2020-02-23', '2020-02-24',\n",
       "               '2020-02-25', '2020-02-26', '2020-02-27', '2020-02-28',\n",
       "               '2020-02-29', '2020-03-01'],\n",
       "              dtype='datetime64[ns]', length=299, freq='D')"
      ]
     },
     "execution_count": 130,
     "metadata": {},
     "output_type": "execute_result"
    }
   ],
   "source": [
    "#Print the new date range\n",
    "new_date_range "
   ]
  },
  {
   "cell_type": "code",
   "execution_count": 142,
   "id": "f9a0907c-eec0-4937-a91c-b71bf65f603f",
   "metadata": {
    "execution": {
     "iopub.execute_input": "2023-03-29T08:56:14.677209Z",
     "iopub.status.busy": "2023-03-29T08:56:14.676848Z",
     "iopub.status.idle": "2023-03-29T08:56:14.680897Z",
     "shell.execute_reply": "2023-03-29T08:56:14.680376Z",
     "shell.execute_reply.started": "2023-03-29T08:56:14.677179Z"
    },
    "tags": []
   },
   "outputs": [],
   "source": [
    "#Step 2: using the current date column as the new index\n",
    "df = ts.set_index(pd.DatetimeIndex(ts['date']))"
   ]
  },
  {
   "cell_type": "code",
   "execution_count": 143,
   "id": "04be661c-11b8-4675-8f11-12ad74efa269",
   "metadata": {
    "execution": {
     "iopub.execute_input": "2023-03-29T08:56:15.670581Z",
     "iopub.status.busy": "2023-03-29T08:56:15.670229Z",
     "iopub.status.idle": "2023-03-29T08:56:15.678305Z",
     "shell.execute_reply": "2023-03-29T08:56:15.677754Z",
     "shell.execute_reply.started": "2023-03-29T08:56:15.670559Z"
    },
    "tags": []
   },
   "outputs": [
    {
     "data": {
      "text/html": [
       "<div>\n",
       "<style scoped>\n",
       "    .dataframe tbody tr th:only-of-type {\n",
       "        vertical-align: middle;\n",
       "    }\n",
       "\n",
       "    .dataframe tbody tr th {\n",
       "        vertical-align: top;\n",
       "    }\n",
       "\n",
       "    .dataframe thead th {\n",
       "        text-align: right;\n",
       "    }\n",
       "</style>\n",
       "<table border=\"1\" class=\"dataframe\">\n",
       "  <thead>\n",
       "    <tr style=\"text-align: right;\">\n",
       "      <th></th>\n",
       "      <th>date</th>\n",
       "      <th>steps</th>\n",
       "    </tr>\n",
       "    <tr>\n",
       "      <th>date</th>\n",
       "      <th></th>\n",
       "      <th></th>\n",
       "    </tr>\n",
       "  </thead>\n",
       "  <tbody>\n",
       "    <tr>\n",
       "      <th>2019-05-08</th>\n",
       "      <td>2019-05-08</td>\n",
       "      <td>1493</td>\n",
       "    </tr>\n",
       "    <tr>\n",
       "      <th>2019-05-09</th>\n",
       "      <td>2019-05-09</td>\n",
       "      <td>5289</td>\n",
       "    </tr>\n",
       "    <tr>\n",
       "      <th>2019-05-10</th>\n",
       "      <td>2019-05-10</td>\n",
       "      <td>9988</td>\n",
       "    </tr>\n",
       "    <tr>\n",
       "      <th>2019-05-11</th>\n",
       "      <td>2019-05-11</td>\n",
       "      <td>8385</td>\n",
       "    </tr>\n",
       "    <tr>\n",
       "      <th>2019-05-12</th>\n",
       "      <td>2019-05-12</td>\n",
       "      <td>1011</td>\n",
       "    </tr>\n",
       "    <tr>\n",
       "      <th>...</th>\n",
       "      <td>...</td>\n",
       "      <td>...</td>\n",
       "    </tr>\n",
       "    <tr>\n",
       "      <th>2020-02-26</th>\n",
       "      <td>2020-02-26</td>\n",
       "      <td>1026</td>\n",
       "    </tr>\n",
       "    <tr>\n",
       "      <th>2020-02-27</th>\n",
       "      <td>2020-02-27</td>\n",
       "      <td>1329</td>\n",
       "    </tr>\n",
       "    <tr>\n",
       "      <th>2020-02-28</th>\n",
       "      <td>2020-02-28</td>\n",
       "      <td>6618</td>\n",
       "    </tr>\n",
       "    <tr>\n",
       "      <th>2020-02-29</th>\n",
       "      <td>2020-02-29</td>\n",
       "      <td>11330</td>\n",
       "    </tr>\n",
       "    <tr>\n",
       "      <th>2020-03-01</th>\n",
       "      <td>2020-03-01</td>\n",
       "      <td>5623</td>\n",
       "    </tr>\n",
       "  </tbody>\n",
       "</table>\n",
       "<p>294 rows × 2 columns</p>\n",
       "</div>"
      ],
      "text/plain": [
       "                  date  steps\n",
       "date                         \n",
       "2019-05-08  2019-05-08   1493\n",
       "2019-05-09  2019-05-09   5289\n",
       "2019-05-10  2019-05-10   9988\n",
       "2019-05-11  2019-05-11   8385\n",
       "2019-05-12  2019-05-12   1011\n",
       "...                ...    ...\n",
       "2020-02-26  2020-02-26   1026\n",
       "2020-02-27  2020-02-27   1329\n",
       "2020-02-28  2020-02-28   6618\n",
       "2020-02-29  2020-02-29  11330\n",
       "2020-03-01  2020-03-01   5623\n",
       "\n",
       "[294 rows x 2 columns]"
      ]
     },
     "execution_count": 143,
     "metadata": {},
     "output_type": "execute_result"
    }
   ],
   "source": [
    "#print the new data\n",
    "df"
   ]
  },
  {
   "cell_type": "code",
   "execution_count": 144,
   "id": "c4c346b1-d3e4-4cf5-887b-0e98d12c44a7",
   "metadata": {
    "execution": {
     "iopub.execute_input": "2023-03-29T08:56:16.669739Z",
     "iopub.status.busy": "2023-03-29T08:56:16.669175Z",
     "iopub.status.idle": "2023-03-29T08:56:16.673110Z",
     "shell.execute_reply": "2023-03-29T08:56:16.672576Z",
     "shell.execute_reply.started": "2023-03-29T08:56:16.669716Z"
    },
    "tags": []
   },
   "outputs": [],
   "source": [
    "#step 3: to avoid conflict in column name, drop the date column since date is now used in the index\n",
    "df = df.drop(columns = \"date\")"
   ]
  },
  {
   "cell_type": "code",
   "execution_count": 145,
   "id": "5fcf805c-60a4-43b2-a1a1-336642257d92",
   "metadata": {
    "execution": {
     "iopub.execute_input": "2023-03-29T08:56:16.674454Z",
     "iopub.status.busy": "2023-03-29T08:56:16.674049Z",
     "iopub.status.idle": "2023-03-29T08:56:16.753935Z",
     "shell.execute_reply": "2023-03-29T08:56:16.753435Z",
     "shell.execute_reply.started": "2023-03-29T08:56:16.674436Z"
    },
    "tags": []
   },
   "outputs": [
    {
     "data": {
      "text/html": [
       "<div>\n",
       "<style scoped>\n",
       "    .dataframe tbody tr th:only-of-type {\n",
       "        vertical-align: middle;\n",
       "    }\n",
       "\n",
       "    .dataframe tbody tr th {\n",
       "        vertical-align: top;\n",
       "    }\n",
       "\n",
       "    .dataframe thead th {\n",
       "        text-align: right;\n",
       "    }\n",
       "</style>\n",
       "<table border=\"1\" class=\"dataframe\">\n",
       "  <thead>\n",
       "    <tr style=\"text-align: right;\">\n",
       "      <th></th>\n",
       "      <th>steps</th>\n",
       "    </tr>\n",
       "    <tr>\n",
       "      <th>date</th>\n",
       "      <th></th>\n",
       "    </tr>\n",
       "  </thead>\n",
       "  <tbody>\n",
       "    <tr>\n",
       "      <th>2019-05-08</th>\n",
       "      <td>1493</td>\n",
       "    </tr>\n",
       "    <tr>\n",
       "      <th>2019-05-09</th>\n",
       "      <td>5289</td>\n",
       "    </tr>\n",
       "    <tr>\n",
       "      <th>2019-05-10</th>\n",
       "      <td>9988</td>\n",
       "    </tr>\n",
       "    <tr>\n",
       "      <th>2019-05-11</th>\n",
       "      <td>8385</td>\n",
       "    </tr>\n",
       "    <tr>\n",
       "      <th>2019-05-12</th>\n",
       "      <td>1011</td>\n",
       "    </tr>\n",
       "    <tr>\n",
       "      <th>...</th>\n",
       "      <td>...</td>\n",
       "    </tr>\n",
       "    <tr>\n",
       "      <th>2020-02-26</th>\n",
       "      <td>1026</td>\n",
       "    </tr>\n",
       "    <tr>\n",
       "      <th>2020-02-27</th>\n",
       "      <td>1329</td>\n",
       "    </tr>\n",
       "    <tr>\n",
       "      <th>2020-02-28</th>\n",
       "      <td>6618</td>\n",
       "    </tr>\n",
       "    <tr>\n",
       "      <th>2020-02-29</th>\n",
       "      <td>11330</td>\n",
       "    </tr>\n",
       "    <tr>\n",
       "      <th>2020-03-01</th>\n",
       "      <td>5623</td>\n",
       "    </tr>\n",
       "  </tbody>\n",
       "</table>\n",
       "<p>294 rows × 1 columns</p>\n",
       "</div>"
      ],
      "text/plain": [
       "            steps\n",
       "date             \n",
       "2019-05-08   1493\n",
       "2019-05-09   5289\n",
       "2019-05-10   9988\n",
       "2019-05-11   8385\n",
       "2019-05-12   1011\n",
       "...           ...\n",
       "2020-02-26   1026\n",
       "2020-02-27   1329\n",
       "2020-02-28   6618\n",
       "2020-02-29  11330\n",
       "2020-03-01   5623\n",
       "\n",
       "[294 rows x 1 columns]"
      ]
     },
     "execution_count": 145,
     "metadata": {},
     "output_type": "execute_result"
    }
   ],
   "source": [
    "# print the new data\n",
    "df"
   ]
  },
  {
   "cell_type": "code",
   "execution_count": 146,
   "id": "1b8f038a-070b-459e-8056-c7e812b9ccf9",
   "metadata": {
    "execution": {
     "iopub.execute_input": "2023-03-29T08:56:17.670014Z",
     "iopub.status.busy": "2023-03-29T08:56:17.669664Z",
     "iopub.status.idle": "2023-03-29T08:56:17.674755Z",
     "shell.execute_reply": "2023-03-29T08:56:17.674202Z",
     "shell.execute_reply.started": "2023-03-29T08:56:17.669991Z"
    },
    "tags": []
   },
   "outputs": [],
   "source": [
    "#Step 3: generate a new data set with missing dates\n",
    "df = df.reindex(new_date_range, fill_value=np.nan).reset_index().rename(columns={'index':'date'})"
   ]
  },
  {
   "cell_type": "code",
   "execution_count": 147,
   "id": "c5facad9-363a-4384-b347-2786259208da",
   "metadata": {
    "execution": {
     "iopub.execute_input": "2023-03-29T08:56:17.676067Z",
     "iopub.status.busy": "2023-03-29T08:56:17.675685Z",
     "iopub.status.idle": "2023-03-29T08:56:17.740646Z",
     "shell.execute_reply": "2023-03-29T08:56:17.740156Z",
     "shell.execute_reply.started": "2023-03-29T08:56:17.676049Z"
    },
    "tags": []
   },
   "outputs": [
    {
     "data": {
      "text/html": [
       "<div>\n",
       "<style scoped>\n",
       "    .dataframe tbody tr th:only-of-type {\n",
       "        vertical-align: middle;\n",
       "    }\n",
       "\n",
       "    .dataframe tbody tr th {\n",
       "        vertical-align: top;\n",
       "    }\n",
       "\n",
       "    .dataframe thead th {\n",
       "        text-align: right;\n",
       "    }\n",
       "</style>\n",
       "<table border=\"1\" class=\"dataframe\">\n",
       "  <thead>\n",
       "    <tr style=\"text-align: right;\">\n",
       "      <th></th>\n",
       "      <th>date</th>\n",
       "      <th>steps</th>\n",
       "    </tr>\n",
       "  </thead>\n",
       "  <tbody>\n",
       "    <tr>\n",
       "      <th>0</th>\n",
       "      <td>2019-05-08</td>\n",
       "      <td>1493.0</td>\n",
       "    </tr>\n",
       "    <tr>\n",
       "      <th>1</th>\n",
       "      <td>2019-05-09</td>\n",
       "      <td>5289.0</td>\n",
       "    </tr>\n",
       "    <tr>\n",
       "      <th>2</th>\n",
       "      <td>2019-05-10</td>\n",
       "      <td>9988.0</td>\n",
       "    </tr>\n",
       "    <tr>\n",
       "      <th>3</th>\n",
       "      <td>2019-05-11</td>\n",
       "      <td>8385.0</td>\n",
       "    </tr>\n",
       "    <tr>\n",
       "      <th>4</th>\n",
       "      <td>2019-05-12</td>\n",
       "      <td>1011.0</td>\n",
       "    </tr>\n",
       "    <tr>\n",
       "      <th>...</th>\n",
       "      <td>...</td>\n",
       "      <td>...</td>\n",
       "    </tr>\n",
       "    <tr>\n",
       "      <th>294</th>\n",
       "      <td>2020-02-26</td>\n",
       "      <td>1026.0</td>\n",
       "    </tr>\n",
       "    <tr>\n",
       "      <th>295</th>\n",
       "      <td>2020-02-27</td>\n",
       "      <td>1329.0</td>\n",
       "    </tr>\n",
       "    <tr>\n",
       "      <th>296</th>\n",
       "      <td>2020-02-28</td>\n",
       "      <td>6618.0</td>\n",
       "    </tr>\n",
       "    <tr>\n",
       "      <th>297</th>\n",
       "      <td>2020-02-29</td>\n",
       "      <td>11330.0</td>\n",
       "    </tr>\n",
       "    <tr>\n",
       "      <th>298</th>\n",
       "      <td>2020-03-01</td>\n",
       "      <td>5623.0</td>\n",
       "    </tr>\n",
       "  </tbody>\n",
       "</table>\n",
       "<p>299 rows × 2 columns</p>\n",
       "</div>"
      ],
      "text/plain": [
       "          date    steps\n",
       "0   2019-05-08   1493.0\n",
       "1   2019-05-09   5289.0\n",
       "2   2019-05-10   9988.0\n",
       "3   2019-05-11   8385.0\n",
       "4   2019-05-12   1011.0\n",
       "..         ...      ...\n",
       "294 2020-02-26   1026.0\n",
       "295 2020-02-27   1329.0\n",
       "296 2020-02-28   6618.0\n",
       "297 2020-02-29  11330.0\n",
       "298 2020-03-01   5623.0\n",
       "\n",
       "[299 rows x 2 columns]"
      ]
     },
     "execution_count": 147,
     "metadata": {},
     "output_type": "execute_result"
    }
   ],
   "source": [
    "#print the new dataset\n",
    "df"
   ]
  },
  {
   "cell_type": "code",
   "execution_count": 148,
   "id": "adc2d9d9-78d1-46bf-bdc2-07fd40723e3f",
   "metadata": {
    "execution": {
     "iopub.execute_input": "2023-03-29T08:56:18.032829Z",
     "iopub.status.busy": "2023-03-29T08:56:18.032533Z",
     "iopub.status.idle": "2023-03-29T08:56:18.041348Z",
     "shell.execute_reply": "2023-03-29T08:56:18.040827Z",
     "shell.execute_reply.started": "2023-03-29T08:56:18.032809Z"
    },
    "tags": []
   },
   "outputs": [
    {
     "data": {
      "text/html": [
       "<div>\n",
       "<style scoped>\n",
       "    .dataframe tbody tr th:only-of-type {\n",
       "        vertical-align: middle;\n",
       "    }\n",
       "\n",
       "    .dataframe tbody tr th {\n",
       "        vertical-align: top;\n",
       "    }\n",
       "\n",
       "    .dataframe thead th {\n",
       "        text-align: right;\n",
       "    }\n",
       "</style>\n",
       "<table border=\"1\" class=\"dataframe\">\n",
       "  <thead>\n",
       "    <tr style=\"text-align: right;\">\n",
       "      <th></th>\n",
       "      <th>index</th>\n",
       "      <th>date</th>\n",
       "      <th>steps</th>\n",
       "      <th>diff_date</th>\n",
       "    </tr>\n",
       "  </thead>\n",
       "  <tbody>\n",
       "  </tbody>\n",
       "</table>\n",
       "</div>"
      ],
      "text/plain": [
       "Empty DataFrame\n",
       "Columns: [index, date, steps, diff_date]\n",
       "Index: []"
      ]
     },
     "execution_count": 148,
     "metadata": {},
     "output_type": "execute_result"
    }
   ],
   "source": [
    "#Test 1, check if there are some missing dates\n",
    "missing_dates = df.reset_index()\n",
    "missing_dates[\"diff_date\"] = pd.to_datetime(missing_dates.date).diff().dt.days\n",
    "missing_dates[missing_dates.diff_date>1]"
   ]
  },
  {
   "cell_type": "code",
   "execution_count": 156,
   "id": "834f2923-5188-40d0-8969-151d24ca99eb",
   "metadata": {
    "execution": {
     "iopub.execute_input": "2023-03-29T08:57:52.670703Z",
     "iopub.status.busy": "2023-03-29T08:57:52.670337Z",
     "iopub.status.idle": "2023-03-29T08:57:52.678117Z",
     "shell.execute_reply": "2023-03-29T08:57:52.677453Z",
     "shell.execute_reply.started": "2023-03-29T08:57:52.670679Z"
    },
    "tags": []
   },
   "outputs": [
    {
     "data": {
      "text/html": [
       "<div>\n",
       "<style scoped>\n",
       "    .dataframe tbody tr th:only-of-type {\n",
       "        vertical-align: middle;\n",
       "    }\n",
       "\n",
       "    .dataframe tbody tr th {\n",
       "        vertical-align: top;\n",
       "    }\n",
       "\n",
       "    .dataframe thead th {\n",
       "        text-align: right;\n",
       "    }\n",
       "</style>\n",
       "<table border=\"1\" class=\"dataframe\">\n",
       "  <thead>\n",
       "    <tr style=\"text-align: right;\">\n",
       "      <th></th>\n",
       "      <th>date</th>\n",
       "      <th>steps</th>\n",
       "    </tr>\n",
       "  </thead>\n",
       "  <tbody>\n",
       "    <tr>\n",
       "      <th>22</th>\n",
       "      <td>2019-05-30</td>\n",
       "      <td>NaN</td>\n",
       "    </tr>\n",
       "    <tr>\n",
       "      <th>25</th>\n",
       "      <td>2019-06-02</td>\n",
       "      <td>NaN</td>\n",
       "    </tr>\n",
       "    <tr>\n",
       "      <th>40</th>\n",
       "      <td>2019-06-17</td>\n",
       "      <td>NaN</td>\n",
       "    </tr>\n",
       "    <tr>\n",
       "      <th>83</th>\n",
       "      <td>2019-07-30</td>\n",
       "      <td>NaN</td>\n",
       "    </tr>\n",
       "    <tr>\n",
       "      <th>212</th>\n",
       "      <td>2019-12-06</td>\n",
       "      <td>NaN</td>\n",
       "    </tr>\n",
       "  </tbody>\n",
       "</table>\n",
       "</div>"
      ],
      "text/plain": [
       "          date  steps\n",
       "22  2019-05-30    NaN\n",
       "25  2019-06-02    NaN\n",
       "40  2019-06-17    NaN\n",
       "83  2019-07-30    NaN\n",
       "212 2019-12-06    NaN"
      ]
     },
     "execution_count": 156,
     "metadata": {},
     "output_type": "execute_result"
    }
   ],
   "source": [
    "#Test 2, check if there are nulls, note the number of nulls should be equal to the number of missing dates\n",
    "df[df.steps.isna()]"
   ]
  },
  {
   "cell_type": "markdown",
   "id": "6fad9efc-fea6-4c89-9810-14d2e6b6ea80",
   "metadata": {
    "execution": {
     "iopub.execute_input": "2023-03-29T08:57:39.750086Z",
     "iopub.status.busy": "2023-03-29T08:57:39.749734Z",
     "iopub.status.idle": "2023-03-29T08:57:39.757169Z",
     "shell.execute_reply": "2023-03-29T08:57:39.756648Z",
     "shell.execute_reply.started": "2023-03-29T08:57:39.750064Z"
    },
    "tags": []
   },
   "source": [
    "Impute dataset with Kalman smoothing\n",
    "---\n",
    "Filling missing values by estimating a joint probability\n",
    "distribution over the variables for each timeframe."
   ]
  },
  {
   "cell_type": "code",
   "execution_count": null,
   "id": "273d919d-115f-4dcf-bfb1-bc56f6275335",
   "metadata": {},
   "outputs": [],
   "source": [
    "kalman_StructTs(df[...], model = \"StructTS\")"
   ]
  }
 ],
 "metadata": {
  "kernelspec": {
   "display_name": "Python 3 (ipykernel)",
   "language": "python",
   "name": "python3"
  },
  "language_info": {
   "codemirror_mode": {
    "name": "ipython",
    "version": 3
   },
   "file_extension": ".py",
   "mimetype": "text/x-python",
   "name": "python",
   "nbconvert_exporter": "python",
   "pygments_lexer": "ipython3",
   "version": "3.8.16"
  }
 },
 "nbformat": 4,
 "nbformat_minor": 5
}
